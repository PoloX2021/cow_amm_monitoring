{
 "cells": [
  {
   "cell_type": "code",
   "execution_count": 1,
   "metadata": {},
   "outputs": [],
   "source": [
    "import polars as pl\n",
    "import numpy as np\n",
    "import holoviews as hv\n",
    "from time import time\n",
    "\n",
    "from cow_amm_trades import compute_cow_amm_trades\n",
    "from balancer_pool_states import compute_balancer_pool_states\n",
    "from coingecko import get_historical_token_price\n",
    "from dataframes import (\n",
    "    states_to_df,\n",
    "    prices_to_df,\n",
    "    combine_with_prices,\n",
    "    plot_profit_vs_holding,\n",
    "    compute_profit_vs_holding_apy,\n",
    ")\n",
    "from constants import (\n",
    "    TOKEN1,\n",
    "    TOKEN2,\n",
    "    TOKEN1_COINGECKO,\n",
    "    TOKEN2_COINGECKO,\n",
    ")"
   ]
  },
  {
   "cell_type": "code",
   "execution_count": 2,
   "metadata": {},
   "outputs": [],
   "source": [
    "cow_amm_states = compute_cow_amm_trades()\n",
    "balancer_pool_states = compute_balancer_pool_states()"
   ]
  },
  {
   "cell_type": "code",
   "execution_count": 3,
   "metadata": {},
   "outputs": [],
   "source": [
    "df_cow = states_to_df(cow_amm_states)\n",
    "df_balancer = states_to_df(balancer_pool_states)"
   ]
  },
  {
   "cell_type": "code",
   "execution_count": 4,
   "metadata": {},
   "outputs": [],
   "source": [
    "token1_prices = get_historical_token_price(TOKEN1_COINGECKO)\n",
    "token2_prices = get_historical_token_price(TOKEN2_COINGECKO)\n",
    "token1_price_in_eth = get_historical_token_price(TOKEN1_COINGECKO, currency=\"eth\")\n",
    "token2_price_in_eth = get_historical_token_price(TOKEN2_COINGECKO, currency=\"eth\")\n",
    "\n",
    "df_token1_prices = prices_to_df(token1_prices)\n",
    "df_token2_prices = prices_to_df(token2_prices)\n",
    "df_token1_prices_in_eth = prices_to_df(token1_price_in_eth)\n",
    "df_token2_prices_in_eth = prices_to_df(token2_price_in_eth)"
   ]
  },
  {
   "cell_type": "code",
   "execution_count": 5,
   "metadata": {},
   "outputs": [],
   "source": [
    "from constants import START_TIME\n",
    "from constants import START_TIME, PROTOCOL_FEE_WEI\n",
    "\n",
    "time_now = time()\n",
    "df_cow_filtered = df_cow.filter(pl.col(\"time\") >= START_TIME)\n",
    "df_balancer_filtered = df_balancer.filter(pl.col(\"time\") >= START_TIME)"
   ]
  },
  {
   "cell_type": "code",
   "execution_count": 6,
   "metadata": {},
   "outputs": [],
   "source": [
    "df_cow_aggregate = combine_with_prices(df_cow_filtered, df_token1_prices, df_token2_prices)\n",
    "df_balancer_aggregate = combine_with_prices(df_balancer_filtered, df_token1_prices, df_token2_prices)"
   ]
  },
  {
   "cell_type": "code",
   "execution_count": 7,
   "metadata": {},
   "outputs": [
    {
     "name": "stdout",
     "output_type": "stream",
     "text": [
      "APY of CoW AMM: 1.0285105392794407\n",
      "APY of CoW AMM (without paying protocol fees): 1.0512382512605016\n"
     ]
    },
    {
     "ename": "IndexError",
     "evalue": "index -1 is out of bounds for sequence of length 0",
     "output_type": "error",
     "traceback": [
      "\u001b[1;31m---------------------------------------------------------------------------\u001b[0m",
      "\u001b[1;31mIndexError\u001b[0m                                Traceback (most recent call last)",
      "Cell \u001b[1;32mIn[7], line 16\u001b[0m\n\u001b[0;32m     11\u001b[0m profit_vs_holding_cow \u001b[38;5;241m=\u001b[39m compute_profit_vs_holding_apy(\n\u001b[0;32m     12\u001b[0m     df_cow_aggregate, protocol_fee_correction\n\u001b[0;32m     13\u001b[0m )\n\u001b[0;32m     14\u001b[0m \u001b[38;5;28mprint\u001b[39m(\u001b[38;5;124mf\u001b[39m\u001b[38;5;124m\"\u001b[39m\u001b[38;5;124mAPY of CoW AMM (without paying protocol fees): \u001b[39m\u001b[38;5;132;01m{\u001b[39;00mprofit_vs_holding_cow\u001b[38;5;132;01m}\u001b[39;00m\u001b[38;5;124m\"\u001b[39m)\n\u001b[1;32m---> 16\u001b[0m profit_vs_holding_balancer \u001b[38;5;241m=\u001b[39m \u001b[43mcompute_profit_vs_holding_apy\u001b[49m\u001b[43m(\u001b[49m\u001b[43mdf_balancer_aggregate\u001b[49m\u001b[43m)\u001b[49m\n\u001b[0;32m     17\u001b[0m \u001b[38;5;28mprint\u001b[39m(\u001b[38;5;124mf\u001b[39m\u001b[38;5;124m\"\u001b[39m\u001b[38;5;124mAPY of Balancer AMM: \u001b[39m\u001b[38;5;132;01m{\u001b[39;00mprofit_vs_holding_balancer\u001b[38;5;132;01m}\u001b[39;00m\u001b[38;5;124m\"\u001b[39m)\n",
      "File \u001b[1;32mc:\\Users\\Paul CoW\\Documents\\AMM\\cow_amm_monitoring_gnosis\\dataframes.py:120\u001b[0m, in \u001b[0;36mcompute_profit_vs_holding_apy\u001b[1;34m(df, correction)\u001b[0m\n\u001b[0;32m    117\u001b[0m power \u001b[38;5;241m=\u001b[39m (\u001b[38;5;241m60\u001b[39m \u001b[38;5;241m*\u001b[39m \u001b[38;5;241m60\u001b[39m \u001b[38;5;241m*\u001b[39m \u001b[38;5;241m24\u001b[39m \u001b[38;5;241m*\u001b[39m \u001b[38;5;241m365\u001b[39m) \u001b[38;5;241m/\u001b[39m (end_time \u001b[38;5;241m-\u001b[39m start_time)\n\u001b[0;32m    118\u001b[0m \u001b[38;5;66;03m# power = 1\u001b[39;00m\n\u001b[0;32m    119\u001b[0m profit_vs_holding \u001b[38;5;241m=\u001b[39m (\n\u001b[1;32m--> 120\u001b[0m     \u001b[43mdf_filtered\u001b[49m\u001b[38;5;241;43m.\u001b[39;49m\u001b[43mfilter\u001b[49m\u001b[43m(\u001b[49m\n\u001b[0;32m    121\u001b[0m \u001b[43m        \u001b[49m\u001b[38;5;241;43m~\u001b[39;49m\u001b[43m(\u001b[49m\u001b[43mpl\u001b[49m\u001b[38;5;241;43m.\u001b[39;49m\u001b[43mcol\u001b[49m\u001b[43m(\u001b[49m\u001b[38;5;124;43m\"\u001b[39;49m\u001b[38;5;124;43mprofit_vs_holding_change\u001b[39;49m\u001b[38;5;124;43m\"\u001b[39;49m\u001b[43m)\u001b[49m\u001b[38;5;241;43m.\u001b[39;49m\u001b[43mlog\u001b[49m\u001b[43m(\u001b[49m\u001b[43m)\u001b[49m\u001b[38;5;241;43m.\u001b[39;49m\u001b[43mabs\u001b[49m\u001b[43m(\u001b[49m\u001b[43m)\u001b[49m\u001b[43m \u001b[49m\u001b[38;5;241;43m>\u001b[39;49m\u001b[43m \u001b[49m\u001b[38;5;241;43m0.01\u001b[39;49m\u001b[43m)\u001b[49m\n\u001b[0;32m    122\u001b[0m \u001b[43m    \u001b[49m\u001b[43m)\u001b[49m\u001b[38;5;241;43m.\u001b[39;49m\u001b[43mwith_columns\u001b[49m\u001b[43m(\u001b[49m\n\u001b[0;32m    123\u001b[0m \u001b[43m        \u001b[49m\u001b[43mpl\u001b[49m\u001b[38;5;241;43m.\u001b[39;49m\u001b[43mcol\u001b[49m\u001b[43m(\u001b[49m\u001b[38;5;124;43m\"\u001b[39;49m\u001b[38;5;124;43mprofit_vs_holding_change\u001b[39;49m\u001b[38;5;124;43m\"\u001b[39;49m\u001b[43m)\u001b[49m\n\u001b[0;32m    124\u001b[0m \u001b[43m        \u001b[49m\u001b[38;5;241;43m.\u001b[39;49m\u001b[43mcum_prod\u001b[49m\u001b[43m(\u001b[49m\u001b[43m)\u001b[49m\n\u001b[0;32m    125\u001b[0m \u001b[43m        \u001b[49m\u001b[38;5;241;43m.\u001b[39;49m\u001b[43malias\u001b[49m\u001b[43m(\u001b[49m\u001b[38;5;124;43m\"\u001b[39;49m\u001b[38;5;124;43mprofit_vs_holding_relative\u001b[39;49m\u001b[38;5;124;43m\"\u001b[39;49m\u001b[43m)\u001b[49m\n\u001b[0;32m    126\u001b[0m \u001b[43m    \u001b[49m\u001b[43m)\u001b[49m\u001b[43m[\u001b[49m\n\u001b[0;32m    127\u001b[0m \u001b[43m        \u001b[49m\u001b[38;5;124;43m\"\u001b[39;49m\u001b[38;5;124;43mprofit_vs_holding_relative\u001b[39;49m\u001b[38;5;124;43m\"\u001b[39;49m\n\u001b[0;32m    128\u001b[0m \u001b[43m    \u001b[49m\u001b[43m]\u001b[49m\u001b[43m[\u001b[49m\n\u001b[0;32m    129\u001b[0m \u001b[43m        \u001b[49m\u001b[38;5;241;43m-\u001b[39;49m\u001b[38;5;241;43m1\u001b[39;49m\n\u001b[0;32m    130\u001b[0m \u001b[43m    \u001b[49m\u001b[43m]\u001b[49m\n\u001b[0;32m    131\u001b[0m     \u001b[38;5;241m*\u001b[39m correction\n\u001b[0;32m    132\u001b[0m ) \u001b[38;5;241m*\u001b[39m\u001b[38;5;241m*\u001b[39m power\n\u001b[0;32m    134\u001b[0m \u001b[38;5;28;01mreturn\u001b[39;00m profit_vs_holding\n",
      "File \u001b[1;32mc:\\Users\\Paul CoW\\miniconda3\\Lib\\site-packages\\polars\\series\\series.py:1318\u001b[0m, in \u001b[0;36mSeries.__getitem__\u001b[1;34m(self, item)\u001b[0m\n\u001b[0;32m   1316\u001b[0m \u001b[38;5;66;03m# Integer\u001b[39;00m\n\u001b[0;32m   1317\u001b[0m \u001b[38;5;28;01melif\u001b[39;00m \u001b[38;5;28misinstance\u001b[39m(item, \u001b[38;5;28mint\u001b[39m):\n\u001b[1;32m-> 1318\u001b[0m     \u001b[38;5;28;01mreturn\u001b[39;00m \u001b[38;5;28;43mself\u001b[39;49m\u001b[38;5;241;43m.\u001b[39;49m\u001b[43m_s\u001b[49m\u001b[38;5;241;43m.\u001b[39;49m\u001b[43mget_index_signed\u001b[49m\u001b[43m(\u001b[49m\u001b[43mitem\u001b[49m\u001b[43m)\u001b[49m\n\u001b[0;32m   1320\u001b[0m \u001b[38;5;66;03m# Slice\u001b[39;00m\n\u001b[0;32m   1321\u001b[0m \u001b[38;5;28;01melif\u001b[39;00m \u001b[38;5;28misinstance\u001b[39m(item, \u001b[38;5;28mslice\u001b[39m):\n",
      "\u001b[1;31mIndexError\u001b[0m: index -1 is out of bounds for sequence of length 0"
     ]
    }
   ],
   "source": [
    "profit_vs_holding_cow = compute_profit_vs_holding_apy(df_cow_aggregate)\n",
    "print(f\"APY of CoW AMM: {profit_vs_holding_cow}\")\n",
    "\n",
    "protocol_fee_correction = (\n",
    "    1\n",
    "    + PROTOCOL_FEE_WEI\n",
    "    / 10**18\n",
    "    * df_cow_aggregate[\"price_\"+TOKEN1][-1]\n",
    "    / df_cow_aggregate[\"total_value\"][-1]\n",
    ")\n",
    "profit_vs_holding_cow = compute_profit_vs_holding_apy(\n",
    "    df_cow_aggregate, protocol_fee_correction\n",
    ")\n",
    "print(f\"APY of CoW AMM (without paying protocol fees): {profit_vs_holding_cow}\")\n",
    "\n",
    "profit_vs_holding_balancer = compute_profit_vs_holding_apy(df_balancer_aggregate)\n",
    "print(f\"APY of Balancer AMM: {profit_vs_holding_balancer}\")"
   ]
  },
  {
   "cell_type": "code",
   "execution_count": null,
   "metadata": {},
   "outputs": [
    {
     "name": "stdout",
     "output_type": "stream",
     "text": [
      "number of trades of CoW AMM vs balancer 34.7%\n",
      "volume of CoW AMM vs balancer 0.7%\n",
      "TVL of CoW AMM vs balancer 0.9%\n"
     ]
    }
   ],
   "source": [
    "trade_fraction = len(df_cow_filtered) / len(df_balancer_filtered)\n",
    "volume_fraction = (\n",
    "    df_cow_aggregate.with_columns(\n",
    "        pl.col(\"value_\"+TOKEN1).diff().abs().sum().alias(\"volume\")\n",
    "    )[\"volume\"][0]\n",
    "    / df_balancer_aggregate.with_columns(\n",
    "        pl.col(\"value_\"+TOKEN1).diff().abs().sum().alias(\"volume\")\n",
    "    )[\"volume\"][0]\n",
    ")\n",
    "tvl_fraction = (\n",
    "    df_cow_aggregate[\"total_value\"][-1] / df_balancer_aggregate[\"total_value\"][-1]\n",
    ")\n",
    "print(f\"number of trades of CoW AMM vs balancer {trade_fraction * 100:2.1f}%\")\n",
    "print(f\"volume of CoW AMM vs balancer {volume_fraction * 100:2.1f}%\")\n",
    "print(f\"TVL of CoW AMM vs balancer {tvl_fraction * 100:2.1f}%\")"
   ]
  },
  {
   "cell_type": "code",
   "execution_count": null,
   "metadata": {},
   "outputs": [
    {
     "data": {
      "application/javascript": "(function(root) {\n  function now() {\n    return new Date();\n  }\n\n  var force = true;\n  var py_version = '3.3.4'.replace('rc', '-rc.').replace('.dev', '-dev.');\n  var reloading = false;\n  var Bokeh = root.Bokeh;\n\n  if (typeof (root._bokeh_timeout) === \"undefined\" || force) {\n    root._bokeh_timeout = Date.now() + 5000;\n    root._bokeh_failed_load = false;\n  }\n\n  function run_callbacks() {\n    try {\n      root._bokeh_onload_callbacks.forEach(function(callback) {\n        if (callback != null)\n          callback();\n      });\n    } finally {\n      delete root._bokeh_onload_callbacks;\n    }\n    console.debug(\"Bokeh: all callbacks have finished\");\n  }\n\n  function load_libs(css_urls, js_urls, js_modules, js_exports, callback) {\n    if (css_urls == null) css_urls = [];\n    if (js_urls == null) js_urls = [];\n    if (js_modules == null) js_modules = [];\n    if (js_exports == null) js_exports = {};\n\n    root._bokeh_onload_callbacks.push(callback);\n\n    if (root._bokeh_is_loading > 0) {\n      console.debug(\"Bokeh: BokehJS is being loaded, scheduling callback at\", now());\n      return null;\n    }\n    if (js_urls.length === 0 && js_modules.length === 0 && Object.keys(js_exports).length === 0) {\n      run_callbacks();\n      return null;\n    }\n    if (!reloading) {\n      console.debug(\"Bokeh: BokehJS not loaded, scheduling load and callback at\", now());\n    }\n\n    function on_load() {\n      root._bokeh_is_loading--;\n      if (root._bokeh_is_loading === 0) {\n        console.debug(\"Bokeh: all BokehJS libraries/stylesheets loaded\");\n        run_callbacks()\n      }\n    }\n    window._bokeh_on_load = on_load\n\n    function on_error() {\n      console.error(\"failed to load \" + url);\n    }\n\n    var skip = [];\n    if (window.requirejs) {\n      window.requirejs.config({'packages': {}, 'paths': {'jspanel': 'https://cdn.jsdelivr.net/npm/jspanel4@4.12.0/dist/jspanel', 'jspanel-modal': 'https://cdn.jsdelivr.net/npm/jspanel4@4.12.0/dist/extensions/modal/jspanel.modal', 'jspanel-tooltip': 'https://cdn.jsdelivr.net/npm/jspanel4@4.12.0/dist/extensions/tooltip/jspanel.tooltip', 'jspanel-hint': 'https://cdn.jsdelivr.net/npm/jspanel4@4.12.0/dist/extensions/hint/jspanel.hint', 'jspanel-layout': 'https://cdn.jsdelivr.net/npm/jspanel4@4.12.0/dist/extensions/layout/jspanel.layout', 'jspanel-contextmenu': 'https://cdn.jsdelivr.net/npm/jspanel4@4.12.0/dist/extensions/contextmenu/jspanel.contextmenu', 'jspanel-dock': 'https://cdn.jsdelivr.net/npm/jspanel4@4.12.0/dist/extensions/dock/jspanel.dock', 'gridstack': 'https://cdn.jsdelivr.net/npm/gridstack@7.2.3/dist/gridstack-all', 'notyf': 'https://cdn.jsdelivr.net/npm/notyf@3/notyf.min'}, 'shim': {'jspanel': {'exports': 'jsPanel'}, 'gridstack': {'exports': 'GridStack'}}});\n      require([\"jspanel\"], function(jsPanel) {\n\twindow.jsPanel = jsPanel\n\ton_load()\n      })\n      require([\"jspanel-modal\"], function() {\n\ton_load()\n      })\n      require([\"jspanel-tooltip\"], function() {\n\ton_load()\n      })\n      require([\"jspanel-hint\"], function() {\n\ton_load()\n      })\n      require([\"jspanel-layout\"], function() {\n\ton_load()\n      })\n      require([\"jspanel-contextmenu\"], function() {\n\ton_load()\n      })\n      require([\"jspanel-dock\"], function() {\n\ton_load()\n      })\n      require([\"gridstack\"], function(GridStack) {\n\twindow.GridStack = GridStack\n\ton_load()\n      })\n      require([\"notyf\"], function() {\n\ton_load()\n      })\n      root._bokeh_is_loading = css_urls.length + 9;\n    } else {\n      root._bokeh_is_loading = css_urls.length + js_urls.length + js_modules.length + Object.keys(js_exports).length;\n    }\n\n    var existing_stylesheets = []\n    var links = document.getElementsByTagName('link')\n    for (var i = 0; i < links.length; i++) {\n      var link = links[i]\n      if (link.href != null) {\n\texisting_stylesheets.push(link.href)\n      }\n    }\n    for (var i = 0; i < css_urls.length; i++) {\n      var url = css_urls[i];\n      if (existing_stylesheets.indexOf(url) !== -1) {\n\ton_load()\n\tcontinue;\n      }\n      const element = document.createElement(\"link\");\n      element.onload = on_load;\n      element.onerror = on_error;\n      element.rel = \"stylesheet\";\n      element.type = \"text/css\";\n      element.href = url;\n      console.debug(\"Bokeh: injecting link tag for BokehJS stylesheet: \", url);\n      document.body.appendChild(element);\n    }    if (((window['jsPanel'] !== undefined) && (!(window['jsPanel'] instanceof HTMLElement))) || window.requirejs) {\n      var urls = ['https://cdn.holoviz.org/panel/1.3.8/dist/bundled/floatpanel/jspanel4@4.12.0/dist/jspanel.js', 'https://cdn.holoviz.org/panel/1.3.8/dist/bundled/floatpanel/jspanel4@4.12.0/dist/extensions/modal/jspanel.modal.js', 'https://cdn.holoviz.org/panel/1.3.8/dist/bundled/floatpanel/jspanel4@4.12.0/dist/extensions/tooltip/jspanel.tooltip.js', 'https://cdn.holoviz.org/panel/1.3.8/dist/bundled/floatpanel/jspanel4@4.12.0/dist/extensions/hint/jspanel.hint.js', 'https://cdn.holoviz.org/panel/1.3.8/dist/bundled/floatpanel/jspanel4@4.12.0/dist/extensions/layout/jspanel.layout.js', 'https://cdn.holoviz.org/panel/1.3.8/dist/bundled/floatpanel/jspanel4@4.12.0/dist/extensions/contextmenu/jspanel.contextmenu.js', 'https://cdn.holoviz.org/panel/1.3.8/dist/bundled/floatpanel/jspanel4@4.12.0/dist/extensions/dock/jspanel.dock.js'];\n      for (var i = 0; i < urls.length; i++) {\n        skip.push(urls[i])\n      }\n    }    if (((window['GridStack'] !== undefined) && (!(window['GridStack'] instanceof HTMLElement))) || window.requirejs) {\n      var urls = ['https://cdn.holoviz.org/panel/1.3.8/dist/bundled/gridstack/gridstack@7.2.3/dist/gridstack-all.js'];\n      for (var i = 0; i < urls.length; i++) {\n        skip.push(urls[i])\n      }\n    }    if (((window['Notyf'] !== undefined) && (!(window['Notyf'] instanceof HTMLElement))) || window.requirejs) {\n      var urls = ['https://cdn.holoviz.org/panel/1.3.8/dist/bundled/notificationarea/notyf@3/notyf.min.js'];\n      for (var i = 0; i < urls.length; i++) {\n        skip.push(urls[i])\n      }\n    }    var existing_scripts = []\n    var scripts = document.getElementsByTagName('script')\n    for (var i = 0; i < scripts.length; i++) {\n      var script = scripts[i]\n      if (script.src != null) {\n\texisting_scripts.push(script.src)\n      }\n    }\n    for (var i = 0; i < js_urls.length; i++) {\n      var url = js_urls[i];\n      if (skip.indexOf(url) !== -1 || existing_scripts.indexOf(url) !== -1) {\n\tif (!window.requirejs) {\n\t  on_load();\n\t}\n\tcontinue;\n      }\n      var element = document.createElement('script');\n      element.onload = on_load;\n      element.onerror = on_error;\n      element.async = false;\n      element.src = url;\n      console.debug(\"Bokeh: injecting script tag for BokehJS library: \", url);\n      document.head.appendChild(element);\n    }\n    for (var i = 0; i < js_modules.length; i++) {\n      var url = js_modules[i];\n      if (skip.indexOf(url) !== -1 || existing_scripts.indexOf(url) !== -1) {\n\tif (!window.requirejs) {\n\t  on_load();\n\t}\n\tcontinue;\n      }\n      var element = document.createElement('script');\n      element.onload = on_load;\n      element.onerror = on_error;\n      element.async = false;\n      element.src = url;\n      element.type = \"module\";\n      console.debug(\"Bokeh: injecting script tag for BokehJS library: \", url);\n      document.head.appendChild(element);\n    }\n    for (const name in js_exports) {\n      var url = js_exports[name];\n      if (skip.indexOf(url) >= 0 || root[name] != null) {\n\tif (!window.requirejs) {\n\t  on_load();\n\t}\n\tcontinue;\n      }\n      var element = document.createElement('script');\n      element.onerror = on_error;\n      element.async = false;\n      element.type = \"module\";\n      console.debug(\"Bokeh: injecting script tag for BokehJS library: \", url);\n      element.textContent = `\n      import ${name} from \"${url}\"\n      window.${name} = ${name}\n      window._bokeh_on_load()\n      `\n      document.head.appendChild(element);\n    }\n    if (!js_urls.length && !js_modules.length) {\n      on_load()\n    }\n  };\n\n  function inject_raw_css(css) {\n    const element = document.createElement(\"style\");\n    element.appendChild(document.createTextNode(css));\n    document.body.appendChild(element);\n  }\n\n  var js_urls = [\"https://cdn.bokeh.org/bokeh/release/bokeh-3.3.4.min.js\", \"https://cdn.bokeh.org/bokeh/release/bokeh-gl-3.3.4.min.js\", \"https://cdn.bokeh.org/bokeh/release/bokeh-widgets-3.3.4.min.js\", \"https://cdn.bokeh.org/bokeh/release/bokeh-tables-3.3.4.min.js\", \"https://cdn.holoviz.org/panel/1.3.8/dist/panel.min.js\"];\n  var js_modules = [];\n  var js_exports = {};\n  var css_urls = [];\n  var inline_js = [    function(Bokeh) {\n      Bokeh.set_log_level(\"info\");\n    },\nfunction(Bokeh) {} // ensure no trailing comma for IE\n  ];\n\n  function run_inline_js() {\n    if ((root.Bokeh !== undefined) || (force === true)) {\n      for (var i = 0; i < inline_js.length; i++) {\n\ttry {\n          inline_js[i].call(root, root.Bokeh);\n\t} catch(e) {\n\t  if (!reloading) {\n\t    throw e;\n\t  }\n\t}\n      }\n      // Cache old bokeh versions\n      if (Bokeh != undefined && !reloading) {\n\tvar NewBokeh = root.Bokeh;\n\tif (Bokeh.versions === undefined) {\n\t  Bokeh.versions = new Map();\n\t}\n\tif (NewBokeh.version !== Bokeh.version) {\n\t  Bokeh.versions.set(NewBokeh.version, NewBokeh)\n\t}\n\troot.Bokeh = Bokeh;\n      }} else if (Date.now() < root._bokeh_timeout) {\n      setTimeout(run_inline_js, 100);\n    } else if (!root._bokeh_failed_load) {\n      console.log(\"Bokeh: BokehJS failed to load within specified timeout.\");\n      root._bokeh_failed_load = true;\n    }\n    root._bokeh_is_initializing = false\n  }\n\n  function load_or_wait() {\n    // Implement a backoff loop that tries to ensure we do not load multiple\n    // versions of Bokeh and its dependencies at the same time.\n    // In recent versions we use the root._bokeh_is_initializing flag\n    // to determine whether there is an ongoing attempt to initialize\n    // bokeh, however for backward compatibility we also try to ensure\n    // that we do not start loading a newer (Panel>=1.0 and Bokeh>3) version\n    // before older versions are fully initialized.\n    if (root._bokeh_is_initializing && Date.now() > root._bokeh_timeout) {\n      root._bokeh_is_initializing = false;\n      root._bokeh_onload_callbacks = undefined;\n      console.log(\"Bokeh: BokehJS was loaded multiple times but one version failed to initialize.\");\n      load_or_wait();\n    } else if (root._bokeh_is_initializing || (typeof root._bokeh_is_initializing === \"undefined\" && root._bokeh_onload_callbacks !== undefined)) {\n      setTimeout(load_or_wait, 100);\n    } else {\n      root._bokeh_is_initializing = true\n      root._bokeh_onload_callbacks = []\n      var bokeh_loaded = Bokeh != null && (Bokeh.version === py_version || (Bokeh.versions !== undefined && Bokeh.versions.has(py_version)));\n      if (!reloading && !bokeh_loaded) {\n\troot.Bokeh = undefined;\n      }\n      load_libs(css_urls, js_urls, js_modules, js_exports, function() {\n\tconsole.debug(\"Bokeh: BokehJS plotting callback run at\", now());\n\trun_inline_js();\n      });\n    }\n  }\n  // Give older versions of the autoload script a head-start to ensure\n  // they initialize before we start loading newer version.\n  setTimeout(load_or_wait, 100)\n}(window));",
      "application/vnd.holoviews_load.v0+json": ""
     },
     "metadata": {},
     "output_type": "display_data"
    },
    {
     "data": {
      "application/javascript": "\nif ((window.PyViz === undefined) || (window.PyViz instanceof HTMLElement)) {\n  window.PyViz = {comms: {}, comm_status:{}, kernels:{}, receivers: {}, plot_index: []}\n}\n\n\n    function JupyterCommManager() {\n    }\n\n    JupyterCommManager.prototype.register_target = function(plot_id, comm_id, msg_handler) {\n      if (window.comm_manager || ((window.Jupyter !== undefined) && (Jupyter.notebook.kernel != null))) {\n        var comm_manager = window.comm_manager || Jupyter.notebook.kernel.comm_manager;\n        comm_manager.register_target(comm_id, function(comm) {\n          comm.on_msg(msg_handler);\n        });\n      } else if ((plot_id in window.PyViz.kernels) && (window.PyViz.kernels[plot_id])) {\n        window.PyViz.kernels[plot_id].registerCommTarget(comm_id, function(comm) {\n          comm.onMsg = msg_handler;\n        });\n      } else if (typeof google != 'undefined' && google.colab.kernel != null) {\n        google.colab.kernel.comms.registerTarget(comm_id, (comm) => {\n          var messages = comm.messages[Symbol.asyncIterator]();\n          function processIteratorResult(result) {\n            var message = result.value;\n            console.log(message)\n            var content = {data: message.data, comm_id};\n            var buffers = []\n            for (var buffer of message.buffers || []) {\n              buffers.push(new DataView(buffer))\n            }\n            var metadata = message.metadata || {};\n            var msg = {content, buffers, metadata}\n            msg_handler(msg);\n            return messages.next().then(processIteratorResult);\n          }\n          return messages.next().then(processIteratorResult);\n        })\n      }\n    }\n\n    JupyterCommManager.prototype.get_client_comm = function(plot_id, comm_id, msg_handler) {\n      if (comm_id in window.PyViz.comms) {\n        return window.PyViz.comms[comm_id];\n      } else if (window.comm_manager || ((window.Jupyter !== undefined) && (Jupyter.notebook.kernel != null))) {\n        var comm_manager = window.comm_manager || Jupyter.notebook.kernel.comm_manager;\n        var comm = comm_manager.new_comm(comm_id, {}, {}, {}, comm_id);\n        if (msg_handler) {\n          comm.on_msg(msg_handler);\n        }\n      } else if ((plot_id in window.PyViz.kernels) && (window.PyViz.kernels[plot_id])) {\n        var comm = window.PyViz.kernels[plot_id].connectToComm(comm_id);\n        comm.open();\n        if (msg_handler) {\n          comm.onMsg = msg_handler;\n        }\n      } else if (typeof google != 'undefined' && google.colab.kernel != null) {\n        var comm_promise = google.colab.kernel.comms.open(comm_id)\n        comm_promise.then((comm) => {\n          window.PyViz.comms[comm_id] = comm;\n          if (msg_handler) {\n            var messages = comm.messages[Symbol.asyncIterator]();\n            function processIteratorResult(result) {\n              var message = result.value;\n              var content = {data: message.data};\n              var metadata = message.metadata || {comm_id};\n              var msg = {content, metadata}\n              msg_handler(msg);\n              return messages.next().then(processIteratorResult);\n            }\n            return messages.next().then(processIteratorResult);\n          }\n        }) \n        var sendClosure = (data, metadata, buffers, disposeOnDone) => {\n          return comm_promise.then((comm) => {\n            comm.send(data, metadata, buffers, disposeOnDone);\n          });\n        };\n        var comm = {\n          send: sendClosure\n        };\n      }\n      window.PyViz.comms[comm_id] = comm;\n      return comm;\n    }\n    window.PyViz.comm_manager = new JupyterCommManager();\n    \n\n\nvar JS_MIME_TYPE = 'application/javascript';\nvar HTML_MIME_TYPE = 'text/html';\nvar EXEC_MIME_TYPE = 'application/vnd.holoviews_exec.v0+json';\nvar CLASS_NAME = 'output';\n\n/**\n * Render data to the DOM node\n */\nfunction render(props, node) {\n  var div = document.createElement(\"div\");\n  var script = document.createElement(\"script\");\n  node.appendChild(div);\n  node.appendChild(script);\n}\n\n/**\n * Handle when a new output is added\n */\nfunction handle_add_output(event, handle) {\n  var output_area = handle.output_area;\n  var output = handle.output;\n  if ((output.data == undefined) || (!output.data.hasOwnProperty(EXEC_MIME_TYPE))) {\n    return\n  }\n  var id = output.metadata[EXEC_MIME_TYPE][\"id\"];\n  var toinsert = output_area.element.find(\".\" + CLASS_NAME.split(' ')[0]);\n  if (id !== undefined) {\n    var nchildren = toinsert.length;\n    var html_node = toinsert[nchildren-1].children[0];\n    html_node.innerHTML = output.data[HTML_MIME_TYPE];\n    var scripts = [];\n    var nodelist = html_node.querySelectorAll(\"script\");\n    for (var i in nodelist) {\n      if (nodelist.hasOwnProperty(i)) {\n        scripts.push(nodelist[i])\n      }\n    }\n\n    scripts.forEach( function (oldScript) {\n      var newScript = document.createElement(\"script\");\n      var attrs = [];\n      var nodemap = oldScript.attributes;\n      for (var j in nodemap) {\n        if (nodemap.hasOwnProperty(j)) {\n          attrs.push(nodemap[j])\n        }\n      }\n      attrs.forEach(function(attr) { newScript.setAttribute(attr.name, attr.value) });\n      newScript.appendChild(document.createTextNode(oldScript.innerHTML));\n      oldScript.parentNode.replaceChild(newScript, oldScript);\n    });\n    if (JS_MIME_TYPE in output.data) {\n      toinsert[nchildren-1].children[1].textContent = output.data[JS_MIME_TYPE];\n    }\n    output_area._hv_plot_id = id;\n    if ((window.Bokeh !== undefined) && (id in Bokeh.index)) {\n      window.PyViz.plot_index[id] = Bokeh.index[id];\n    } else {\n      window.PyViz.plot_index[id] = null;\n    }\n  } else if (output.metadata[EXEC_MIME_TYPE][\"server_id\"] !== undefined) {\n    var bk_div = document.createElement(\"div\");\n    bk_div.innerHTML = output.data[HTML_MIME_TYPE];\n    var script_attrs = bk_div.children[0].attributes;\n    for (var i = 0; i < script_attrs.length; i++) {\n      toinsert[toinsert.length - 1].childNodes[1].setAttribute(script_attrs[i].name, script_attrs[i].value);\n    }\n    // store reference to server id on output_area\n    output_area._bokeh_server_id = output.metadata[EXEC_MIME_TYPE][\"server_id\"];\n  }\n}\n\n/**\n * Handle when an output is cleared or removed\n */\nfunction handle_clear_output(event, handle) {\n  var id = handle.cell.output_area._hv_plot_id;\n  var server_id = handle.cell.output_area._bokeh_server_id;\n  if (((id === undefined) || !(id in PyViz.plot_index)) && (server_id !== undefined)) { return; }\n  var comm = window.PyViz.comm_manager.get_client_comm(\"hv-extension-comm\", \"hv-extension-comm\", function () {});\n  if (server_id !== null) {\n    comm.send({event_type: 'server_delete', 'id': server_id});\n    return;\n  } else if (comm !== null) {\n    comm.send({event_type: 'delete', 'id': id});\n  }\n  delete PyViz.plot_index[id];\n  if ((window.Bokeh !== undefined) & (id in window.Bokeh.index)) {\n    var doc = window.Bokeh.index[id].model.document\n    doc.clear();\n    const i = window.Bokeh.documents.indexOf(doc);\n    if (i > -1) {\n      window.Bokeh.documents.splice(i, 1);\n    }\n  }\n}\n\n/**\n * Handle kernel restart event\n */\nfunction handle_kernel_cleanup(event, handle) {\n  delete PyViz.comms[\"hv-extension-comm\"];\n  window.PyViz.plot_index = {}\n}\n\n/**\n * Handle update_display_data messages\n */\nfunction handle_update_output(event, handle) {\n  handle_clear_output(event, {cell: {output_area: handle.output_area}})\n  handle_add_output(event, handle)\n}\n\nfunction register_renderer(events, OutputArea) {\n  function append_mime(data, metadata, element) {\n    // create a DOM node to render to\n    var toinsert = this.create_output_subarea(\n    metadata,\n    CLASS_NAME,\n    EXEC_MIME_TYPE\n    );\n    this.keyboard_manager.register_events(toinsert);\n    // Render to node\n    var props = {data: data, metadata: metadata[EXEC_MIME_TYPE]};\n    render(props, toinsert[0]);\n    element.append(toinsert);\n    return toinsert\n  }\n\n  events.on('output_added.OutputArea', handle_add_output);\n  events.on('output_updated.OutputArea', handle_update_output);\n  events.on('clear_output.CodeCell', handle_clear_output);\n  events.on('delete.Cell', handle_clear_output);\n  events.on('kernel_ready.Kernel', handle_kernel_cleanup);\n\n  OutputArea.prototype.register_mime_type(EXEC_MIME_TYPE, append_mime, {\n    safe: true,\n    index: 0\n  });\n}\n\nif (window.Jupyter !== undefined) {\n  try {\n    var events = require('base/js/events');\n    var OutputArea = require('notebook/js/outputarea').OutputArea;\n    if (OutputArea.prototype.mime_types().indexOf(EXEC_MIME_TYPE) == -1) {\n      register_renderer(events, OutputArea);\n    }\n  } catch(err) {\n  }\n}\n",
      "application/vnd.holoviews_load.v0+json": ""
     },
     "metadata": {},
     "output_type": "display_data"
    },
    {
     "data": {
      "text/html": [
       "<style>*[data-root-id],\n",
       "*[data-root-id] > * {\n",
       "  box-sizing: border-box;\n",
       "  font-family: var(--jp-ui-font-family);\n",
       "  font-size: var(--jp-ui-font-size1);\n",
       "  color: var(--vscode-editor-foreground, var(--jp-ui-font-color1));\n",
       "}\n",
       "\n",
       "/* Override VSCode background color */\n",
       ".cell-output-ipywidget-background:has(\n",
       "    > .cell-output-ipywidget-background > .lm-Widget > *[data-root-id]\n",
       "  ),\n",
       ".cell-output-ipywidget-background:has(> .lm-Widget > *[data-root-id]) {\n",
       "  background-color: transparent !important;\n",
       "}\n",
       "</style>"
      ]
     },
     "metadata": {},
     "output_type": "display_data"
    },
    {
     "data": {
      "application/vnd.holoviews_exec.v0+json": "",
      "text/html": [
       "<div id='p1002'>\n",
       "  <div id=\"af5ebabc-9bf6-4875-bd16-841c7a33a1e4\" data-root-id=\"p1002\" style=\"display: contents;\"></div>\n",
       "</div>\n",
       "<script type=\"application/javascript\">(function(root) {\n",
       "  var docs_json = {\"4bd36588-12ec-4799-a4de-293c9ed7d4fc\":{\"version\":\"3.3.4\",\"title\":\"Bokeh Application\",\"roots\":[{\"type\":\"object\",\"name\":\"panel.models.browser.BrowserInfo\",\"id\":\"p1002\"},{\"type\":\"object\",\"name\":\"panel.models.comm_manager.CommManager\",\"id\":\"p1003\",\"attributes\":{\"plot_id\":\"p1002\",\"comm_id\":\"b8c55eb7aa2f4a70aa151b700e4ba514\",\"client_comm_id\":\"c98dc048870140a4a9fee034c669d9d5\"}}],\"defs\":[{\"type\":\"model\",\"name\":\"ReactiveHTML1\"},{\"type\":\"model\",\"name\":\"FlexBox1\",\"properties\":[{\"name\":\"align_content\",\"kind\":\"Any\",\"default\":\"flex-start\"},{\"name\":\"align_items\",\"kind\":\"Any\",\"default\":\"flex-start\"},{\"name\":\"flex_direction\",\"kind\":\"Any\",\"default\":\"row\"},{\"name\":\"flex_wrap\",\"kind\":\"Any\",\"default\":\"wrap\"},{\"name\":\"justify_content\",\"kind\":\"Any\",\"default\":\"flex-start\"}]},{\"type\":\"model\",\"name\":\"FloatPanel1\",\"properties\":[{\"name\":\"config\",\"kind\":\"Any\",\"default\":{\"type\":\"map\"}},{\"name\":\"contained\",\"kind\":\"Any\",\"default\":true},{\"name\":\"position\",\"kind\":\"Any\",\"default\":\"right-top\"},{\"name\":\"offsetx\",\"kind\":\"Any\",\"default\":null},{\"name\":\"offsety\",\"kind\":\"Any\",\"default\":null},{\"name\":\"theme\",\"kind\":\"Any\",\"default\":\"primary\"},{\"name\":\"status\",\"kind\":\"Any\",\"default\":\"normalized\"}]},{\"type\":\"model\",\"name\":\"GridStack1\",\"properties\":[{\"name\":\"mode\",\"kind\":\"Any\",\"default\":\"warn\"},{\"name\":\"ncols\",\"kind\":\"Any\",\"default\":null},{\"name\":\"nrows\",\"kind\":\"Any\",\"default\":null},{\"name\":\"allow_resize\",\"kind\":\"Any\",\"default\":true},{\"name\":\"allow_drag\",\"kind\":\"Any\",\"default\":true},{\"name\":\"state\",\"kind\":\"Any\",\"default\":[]}]},{\"type\":\"model\",\"name\":\"drag1\",\"properties\":[{\"name\":\"slider_width\",\"kind\":\"Any\",\"default\":5},{\"name\":\"slider_color\",\"kind\":\"Any\",\"default\":\"black\"},{\"name\":\"value\",\"kind\":\"Any\",\"default\":50}]},{\"type\":\"model\",\"name\":\"click1\",\"properties\":[{\"name\":\"terminal_output\",\"kind\":\"Any\",\"default\":\"\"},{\"name\":\"debug_name\",\"kind\":\"Any\",\"default\":\"\"},{\"name\":\"clears\",\"kind\":\"Any\",\"default\":0}]},{\"type\":\"model\",\"name\":\"copy_to_clipboard1\",\"properties\":[{\"name\":\"fill\",\"kind\":\"Any\",\"default\":\"none\"},{\"name\":\"value\",\"kind\":\"Any\",\"default\":null}]},{\"type\":\"model\",\"name\":\"FastWrapper1\",\"properties\":[{\"name\":\"object\",\"kind\":\"Any\",\"default\":null},{\"name\":\"style\",\"kind\":\"Any\",\"default\":null}]},{\"type\":\"model\",\"name\":\"NotificationAreaBase1\",\"properties\":[{\"name\":\"js_events\",\"kind\":\"Any\",\"default\":{\"type\":\"map\"}},{\"name\":\"position\",\"kind\":\"Any\",\"default\":\"bottom-right\"},{\"name\":\"_clear\",\"kind\":\"Any\",\"default\":0}]},{\"type\":\"model\",\"name\":\"NotificationArea1\",\"properties\":[{\"name\":\"js_events\",\"kind\":\"Any\",\"default\":{\"type\":\"map\"}},{\"name\":\"notifications\",\"kind\":\"Any\",\"default\":[]},{\"name\":\"position\",\"kind\":\"Any\",\"default\":\"bottom-right\"},{\"name\":\"_clear\",\"kind\":\"Any\",\"default\":0},{\"name\":\"types\",\"kind\":\"Any\",\"default\":[{\"type\":\"map\",\"entries\":[[\"type\",\"warning\"],[\"background\",\"#ffc107\"],[\"icon\",{\"type\":\"map\",\"entries\":[[\"className\",\"fas fa-exclamation-triangle\"],[\"tagName\",\"i\"],[\"color\",\"white\"]]}]]},{\"type\":\"map\",\"entries\":[[\"type\",\"info\"],[\"background\",\"#007bff\"],[\"icon\",{\"type\":\"map\",\"entries\":[[\"className\",\"fas fa-info-circle\"],[\"tagName\",\"i\"],[\"color\",\"white\"]]}]]}]}]},{\"type\":\"model\",\"name\":\"Notification\",\"properties\":[{\"name\":\"background\",\"kind\":\"Any\",\"default\":null},{\"name\":\"duration\",\"kind\":\"Any\",\"default\":3000},{\"name\":\"icon\",\"kind\":\"Any\",\"default\":null},{\"name\":\"message\",\"kind\":\"Any\",\"default\":\"\"},{\"name\":\"notification_type\",\"kind\":\"Any\",\"default\":null},{\"name\":\"_destroyed\",\"kind\":\"Any\",\"default\":false}]},{\"type\":\"model\",\"name\":\"TemplateActions1\",\"properties\":[{\"name\":\"open_modal\",\"kind\":\"Any\",\"default\":0},{\"name\":\"close_modal\",\"kind\":\"Any\",\"default\":0}]},{\"type\":\"model\",\"name\":\"BootstrapTemplateActions1\",\"properties\":[{\"name\":\"open_modal\",\"kind\":\"Any\",\"default\":0},{\"name\":\"close_modal\",\"kind\":\"Any\",\"default\":0}]},{\"type\":\"model\",\"name\":\"MaterialTemplateActions1\",\"properties\":[{\"name\":\"open_modal\",\"kind\":\"Any\",\"default\":0},{\"name\":\"close_modal\",\"kind\":\"Any\",\"default\":0}]}]}};\n",
       "  var render_items = [{\"docid\":\"4bd36588-12ec-4799-a4de-293c9ed7d4fc\",\"roots\":{\"p1002\":\"af5ebabc-9bf6-4875-bd16-841c7a33a1e4\"},\"root_ids\":[\"p1002\"]}];\n",
       "  var docs = Object.values(docs_json)\n",
       "  if (!docs) {\n",
       "    return\n",
       "  }\n",
       "  const py_version = docs[0].version.replace('rc', '-rc.').replace('.dev', '-dev.')\n",
       "  function embed_document(root) {\n",
       "    var Bokeh = get_bokeh(root)\n",
       "    Bokeh.embed.embed_items_notebook(docs_json, render_items);\n",
       "    for (const render_item of render_items) {\n",
       "      for (const root_id of render_item.root_ids) {\n",
       "\tconst id_el = document.getElementById(root_id)\n",
       "\tif (id_el.children.length && (id_el.children[0].className === 'bk-root')) {\n",
       "\t  const root_el = id_el.children[0]\n",
       "\t  root_el.id = root_el.id + '-rendered'\n",
       "\t}\n",
       "      }\n",
       "    }\n",
       "  }\n",
       "  function get_bokeh(root) {\n",
       "    if (root.Bokeh === undefined) {\n",
       "      return null\n",
       "    } else if (root.Bokeh.version !== py_version) {\n",
       "      if (root.Bokeh.versions === undefined || !root.Bokeh.versions.has(py_version)) {\n",
       "\treturn null\n",
       "      }\n",
       "      return root.Bokeh.versions.get(py_version);\n",
       "    } else if (root.Bokeh.version === py_version) {\n",
       "      return root.Bokeh\n",
       "    }\n",
       "    return null\n",
       "  }\n",
       "  function is_loaded(root) {\n",
       "    var Bokeh = get_bokeh(root)\n",
       "    return (Bokeh != null && Bokeh.Panel !== undefined)\n",
       "  }\n",
       "  if (is_loaded(root)) {\n",
       "    embed_document(root);\n",
       "  } else {\n",
       "    var attempts = 0;\n",
       "    var timer = setInterval(function(root) {\n",
       "      if (is_loaded(root)) {\n",
       "        clearInterval(timer);\n",
       "        embed_document(root);\n",
       "      } else if (document.readyState == \"complete\") {\n",
       "        attempts++;\n",
       "        if (attempts > 200) {\n",
       "          clearInterval(timer);\n",
       "\t  var Bokeh = get_bokeh(root)\n",
       "\t  if (Bokeh == null || Bokeh.Panel == null) {\n",
       "            console.warn(\"Panel: ERROR: Unable to run Panel code because Bokeh or Panel library is missing\");\n",
       "\t  } else {\n",
       "\t    console.warn(\"Panel: WARNING: Attempting to render but not all required libraries could be resolved.\")\n",
       "\t    embed_document(root)\n",
       "\t  }\n",
       "        }\n",
       "      }\n",
       "    }, 25, root)\n",
       "  }\n",
       "})(window);</script>"
      ]
     },
     "metadata": {
      "application/vnd.holoviews_exec.v0+json": {
       "id": "p1002"
      }
     },
     "output_type": "display_data"
    },
    {
     "data": {},
     "metadata": {},
     "output_type": "display_data"
    },
    {
     "data": {
      "application/vnd.holoviews_exec.v0+json": "",
      "text/html": [
       "<div id='p1004'>\n",
       "  <div id=\"a10815e3-babf-49ce-b6ad-861e6368f81f\" data-root-id=\"p1004\" style=\"display: contents;\"></div>\n",
       "</div>\n",
       "<script type=\"application/javascript\">(function(root) {\n",
       "  var docs_json = {\"f3a09ea3-37ec-479d-a05c-e40bd8a80760\":{\"version\":\"3.3.4\",\"title\":\"Bokeh Application\",\"roots\":[{\"type\":\"object\",\"name\":\"Row\",\"id\":\"p1004\",\"attributes\":{\"name\":\"Row01074\",\"tags\":[\"embedded\"],\"stylesheets\":[\"\\n:host(.pn-loading.pn-arc):before, .pn-loading.pn-arc:before {\\n  background-image: url(\\\"data:image/svg+xml;base64,PHN2ZyB4bWxucz0iaHR0cDovL3d3dy53My5vcmcvMjAwMC9zdmciIHN0eWxlPSJtYXJnaW46IGF1dG87IGJhY2tncm91bmQ6IG5vbmU7IGRpc3BsYXk6IGJsb2NrOyBzaGFwZS1yZW5kZXJpbmc6IGF1dG87IiB2aWV3Qm94PSIwIDAgMTAwIDEwMCIgcHJlc2VydmVBc3BlY3RSYXRpbz0ieE1pZFlNaWQiPiAgPGNpcmNsZSBjeD0iNTAiIGN5PSI1MCIgZmlsbD0ibm9uZSIgc3Ryb2tlPSIjYzNjM2MzIiBzdHJva2Utd2lkdGg9IjEwIiByPSIzNSIgc3Ryb2tlLWRhc2hhcnJheT0iMTY0LjkzMzYxNDMxMzQ2NDE1IDU2Ljk3Nzg3MTQzNzgyMTM4Ij4gICAgPGFuaW1hdGVUcmFuc2Zvcm0gYXR0cmlidXRlTmFtZT0idHJhbnNmb3JtIiB0eXBlPSJyb3RhdGUiIHJlcGVhdENvdW50PSJpbmRlZmluaXRlIiBkdXI9IjFzIiB2YWx1ZXM9IjAgNTAgNTA7MzYwIDUwIDUwIiBrZXlUaW1lcz0iMDsxIj48L2FuaW1hdGVUcmFuc2Zvcm0+ICA8L2NpcmNsZT48L3N2Zz4=\\\");\\n  background-size: auto calc(min(50%, 400px));\\n}\",{\"type\":\"object\",\"name\":\"ImportedStyleSheet\",\"id\":\"p1007\",\"attributes\":{\"url\":\"https://cdn.holoviz.org/panel/1.3.8/dist/css/loading.css\"}},{\"type\":\"object\",\"name\":\"ImportedStyleSheet\",\"id\":\"p1094\",\"attributes\":{\"url\":\"https://cdn.holoviz.org/panel/1.3.8/dist/css/listpanel.css\"}},{\"type\":\"object\",\"name\":\"ImportedStyleSheet\",\"id\":\"p1005\",\"attributes\":{\"url\":\"https://cdn.holoviz.org/panel/1.3.8/dist/bundled/theme/default.css\"}},{\"type\":\"object\",\"name\":\"ImportedStyleSheet\",\"id\":\"p1006\",\"attributes\":{\"url\":\"https://cdn.holoviz.org/panel/1.3.8/dist/bundled/theme/native.css\"}}],\"min_width\":700,\"margin\":0,\"sizing_mode\":\"stretch_width\",\"align\":\"start\",\"children\":[{\"type\":\"object\",\"name\":\"Spacer\",\"id\":\"p1008\",\"attributes\":{\"name\":\"HSpacer01081\",\"stylesheets\":[\"\\n:host(.pn-loading.pn-arc):before, .pn-loading.pn-arc:before {\\n  background-image: url(\\\"data:image/svg+xml;base64,PHN2ZyB4bWxucz0iaHR0cDovL3d3dy53My5vcmcvMjAwMC9zdmciIHN0eWxlPSJtYXJnaW46IGF1dG87IGJhY2tncm91bmQ6IG5vbmU7IGRpc3BsYXk6IGJsb2NrOyBzaGFwZS1yZW5kZXJpbmc6IGF1dG87IiB2aWV3Qm94PSIwIDAgMTAwIDEwMCIgcHJlc2VydmVBc3BlY3RSYXRpbz0ieE1pZFlNaWQiPiAgPGNpcmNsZSBjeD0iNTAiIGN5PSI1MCIgZmlsbD0ibm9uZSIgc3Ryb2tlPSIjYzNjM2MzIiBzdHJva2Utd2lkdGg9IjEwIiByPSIzNSIgc3Ryb2tlLWRhc2hhcnJheT0iMTY0LjkzMzYxNDMxMzQ2NDE1IDU2Ljk3Nzg3MTQzNzgyMTM4Ij4gICAgPGFuaW1hdGVUcmFuc2Zvcm0gYXR0cmlidXRlTmFtZT0idHJhbnNmb3JtIiB0eXBlPSJyb3RhdGUiIHJlcGVhdENvdW50PSJpbmRlZmluaXRlIiBkdXI9IjFzIiB2YWx1ZXM9IjAgNTAgNTA7MzYwIDUwIDUwIiBrZXlUaW1lcz0iMDsxIj48L2FuaW1hdGVUcmFuc2Zvcm0+ICA8L2NpcmNsZT48L3N2Zz4=\\\");\\n  background-size: auto calc(min(50%, 400px));\\n}\",{\"id\":\"p1007\"},{\"id\":\"p1005\"},{\"id\":\"p1006\"}],\"margin\":0,\"sizing_mode\":\"stretch_width\",\"align\":\"start\"}},{\"type\":\"object\",\"name\":\"Figure\",\"id\":\"p1019\",\"attributes\":{\"width\":700,\"height\":300,\"margin\":[5,10],\"sizing_mode\":\"fixed\",\"align\":\"start\",\"x_range\":{\"type\":\"object\",\"name\":\"Range1d\",\"id\":\"p1009\",\"attributes\":{\"tags\":[[[\"time\",\"time\",null]],[]]}},\"y_range\":{\"type\":\"object\",\"name\":\"Range1d\",\"id\":\"p1010\",\"attributes\":{\"tags\":[[[\"profit_vs_holding_relative\",\"profit_vs_holding_relative\",null]],{\"type\":\"map\",\"entries\":[[\"invert_yaxis\",false],[\"autorange\",false]]}]}},\"x_scale\":{\"type\":\"object\",\"name\":\"LinearScale\",\"id\":\"p1029\"},\"y_scale\":{\"type\":\"object\",\"name\":\"LinearScale\",\"id\":\"p1030\"},\"title\":{\"type\":\"object\",\"name\":\"Title\",\"id\":\"p1022\",\"attributes\":{\"text\":\"profid vs holding comparison\",\"text_color\":\"black\",\"text_font_size\":\"12pt\"}},\"renderers\":[{\"type\":\"object\",\"name\":\"GlyphRenderer\",\"id\":\"p1071\",\"attributes\":{\"name\":\"cow amm\",\"data_source\":{\"type\":\"object\",\"name\":\"ColumnDataSource\",\"id\":\"p1062\",\"attributes\":{\"selected\":{\"type\":\"object\",\"name\":\"Selection\",\"id\":\"p1063\",\"attributes\":{\"indices\":[],\"line_indices\":[]}},\"selection_policy\":{\"type\":\"object\",\"name\":\"UnionRenderers\",\"id\":\"p1064\"},\"data\":{\"type\":\"map\",\"entries\":[[\"time\",{\"type\":\"ndarray\",\"array\":{\"type\":\"bytes\",\"data\":\"\"},\"shape\":[0],\"dtype\":\"float64\",\"order\":\"little\"}],[\"profit_vs_holding_relative\",{\"type\":\"ndarray\",\"array\":{\"type\":\"bytes\",\"data\":\"\"},\"shape\":[0],\"dtype\":\"float64\",\"order\":\"little\"}]]}}},\"view\":{\"type\":\"object\",\"name\":\"CDSView\",\"id\":\"p1072\",\"attributes\":{\"filter\":{\"type\":\"object\",\"name\":\"AllIndices\",\"id\":\"p1073\"}}},\"glyph\":{\"type\":\"object\",\"name\":\"Line\",\"id\":\"p1068\",\"attributes\":{\"tags\":[\"apply_ranges\"],\"x\":{\"type\":\"field\",\"field\":\"time\"},\"y\":{\"type\":\"field\",\"field\":\"profit_vs_holding_relative\"},\"line_color\":\"#30a2da\",\"line_width\":2}},\"selection_glyph\":{\"type\":\"object\",\"name\":\"Line\",\"id\":\"p1076\",\"attributes\":{\"tags\":[\"apply_ranges\"],\"x\":{\"type\":\"field\",\"field\":\"time\"},\"y\":{\"type\":\"field\",\"field\":\"profit_vs_holding_relative\"},\"line_color\":\"#30a2da\",\"line_width\":2}},\"nonselection_glyph\":{\"type\":\"object\",\"name\":\"Line\",\"id\":\"p1069\",\"attributes\":{\"tags\":[\"apply_ranges\"],\"x\":{\"type\":\"field\",\"field\":\"time\"},\"y\":{\"type\":\"field\",\"field\":\"profit_vs_holding_relative\"},\"line_color\":\"#30a2da\",\"line_alpha\":0.1,\"line_width\":2}},\"muted_glyph\":{\"type\":\"object\",\"name\":\"Line\",\"id\":\"p1070\",\"attributes\":{\"tags\":[\"apply_ranges\"],\"x\":{\"type\":\"field\",\"field\":\"time\"},\"y\":{\"type\":\"field\",\"field\":\"profit_vs_holding_relative\"},\"line_color\":\"#30a2da\",\"line_alpha\":0.2,\"line_width\":2}}}},{\"type\":\"object\",\"name\":\"GlyphRenderer\",\"id\":\"p1086\",\"attributes\":{\"name\":\"balancer\",\"data_source\":{\"type\":\"object\",\"name\":\"ColumnDataSource\",\"id\":\"p1077\",\"attributes\":{\"selected\":{\"type\":\"object\",\"name\":\"Selection\",\"id\":\"p1078\",\"attributes\":{\"indices\":[],\"line_indices\":[]}},\"selection_policy\":{\"type\":\"object\",\"name\":\"UnionRenderers\",\"id\":\"p1079\"},\"data\":{\"type\":\"map\",\"entries\":[[\"time\",{\"type\":\"ndarray\",\"array\":{\"type\":\"bytes\",\"data\":\"\"},\"shape\":[0],\"dtype\":\"float64\",\"order\":\"little\"}],[\"profit_vs_holding_relative\",{\"type\":\"ndarray\",\"array\":{\"type\":\"bytes\",\"data\":\"\"},\"shape\":[0],\"dtype\":\"float64\",\"order\":\"little\"}]]}}},\"view\":{\"type\":\"object\",\"name\":\"CDSView\",\"id\":\"p1087\",\"attributes\":{\"filter\":{\"type\":\"object\",\"name\":\"AllIndices\",\"id\":\"p1088\"}}},\"glyph\":{\"type\":\"object\",\"name\":\"Line\",\"id\":\"p1083\",\"attributes\":{\"tags\":[\"apply_ranges\"],\"x\":{\"type\":\"field\",\"field\":\"time\"},\"y\":{\"type\":\"field\",\"field\":\"profit_vs_holding_relative\"},\"line_color\":\"#fc4f30\",\"line_width\":2}},\"selection_glyph\":{\"type\":\"object\",\"name\":\"Line\",\"id\":\"p1090\",\"attributes\":{\"tags\":[\"apply_ranges\"],\"x\":{\"type\":\"field\",\"field\":\"time\"},\"y\":{\"type\":\"field\",\"field\":\"profit_vs_holding_relative\"},\"line_color\":\"#fc4f30\",\"line_width\":2}},\"nonselection_glyph\":{\"type\":\"object\",\"name\":\"Line\",\"id\":\"p1084\",\"attributes\":{\"tags\":[\"apply_ranges\"],\"x\":{\"type\":\"field\",\"field\":\"time\"},\"y\":{\"type\":\"field\",\"field\":\"profit_vs_holding_relative\"},\"line_color\":\"#fc4f30\",\"line_alpha\":0.1,\"line_width\":2}},\"muted_glyph\":{\"type\":\"object\",\"name\":\"Line\",\"id\":\"p1085\",\"attributes\":{\"tags\":[\"apply_ranges\"],\"x\":{\"type\":\"field\",\"field\":\"time\"},\"y\":{\"type\":\"field\",\"field\":\"profit_vs_holding_relative\"},\"line_color\":\"#fc4f30\",\"line_alpha\":0.2,\"line_width\":2}}}}],\"toolbar\":{\"type\":\"object\",\"name\":\"Toolbar\",\"id\":\"p1028\",\"attributes\":{\"tools\":[{\"type\":\"object\",\"name\":\"WheelZoomTool\",\"id\":\"p1014\",\"attributes\":{\"tags\":[\"hv_created\"],\"renderers\":\"auto\",\"zoom_together\":\"none\"}},{\"type\":\"object\",\"name\":\"HoverTool\",\"id\":\"p1015\",\"attributes\":{\"tags\":[\"hv_created\"],\"renderers\":[{\"id\":\"p1071\"},{\"id\":\"p1086\"}],\"tooltips\":[[\"time\",\"@{time}\"],[\"profit_vs_holding_relative\",\"@{profit_vs_holding_relative}\"]]}},{\"type\":\"object\",\"name\":\"SaveTool\",\"id\":\"p1053\"},{\"type\":\"object\",\"name\":\"PanTool\",\"id\":\"p1054\"},{\"type\":\"object\",\"name\":\"BoxZoomTool\",\"id\":\"p1055\",\"attributes\":{\"overlay\":{\"type\":\"object\",\"name\":\"BoxAnnotation\",\"id\":\"p1056\",\"attributes\":{\"syncable\":false,\"level\":\"overlay\",\"visible\":false,\"left\":{\"type\":\"number\",\"value\":\"nan\"},\"right\":{\"type\":\"number\",\"value\":\"nan\"},\"top\":{\"type\":\"number\",\"value\":\"nan\"},\"bottom\":{\"type\":\"number\",\"value\":\"nan\"},\"left_units\":\"canvas\",\"right_units\":\"canvas\",\"top_units\":\"canvas\",\"bottom_units\":\"canvas\",\"line_color\":\"black\",\"line_alpha\":1.0,\"line_width\":2,\"line_dash\":[4,4],\"fill_color\":\"lightgrey\",\"fill_alpha\":0.5}}}},{\"type\":\"object\",\"name\":\"ResetTool\",\"id\":\"p1061\"}],\"active_drag\":{\"id\":\"p1054\"},\"active_scroll\":{\"id\":\"p1014\"}}},\"left\":[{\"type\":\"object\",\"name\":\"LinearAxis\",\"id\":\"p1048\",\"attributes\":{\"ticker\":{\"type\":\"object\",\"name\":\"BasicTicker\",\"id\":\"p1049\",\"attributes\":{\"mantissas\":[1,2,5]}},\"formatter\":{\"type\":\"object\",\"name\":\"BasicTickFormatter\",\"id\":\"p1050\"},\"axis_label\":\"profit_vs_holding_relative\",\"major_label_policy\":{\"type\":\"object\",\"name\":\"AllLabels\",\"id\":\"p1051\"}}}],\"below\":[{\"type\":\"object\",\"name\":\"DatetimeAxis\",\"id\":\"p1031\",\"attributes\":{\"ticker\":{\"type\":\"object\",\"name\":\"DatetimeTicker\",\"id\":\"p1032\",\"attributes\":{\"num_minor_ticks\":5,\"tickers\":[{\"type\":\"object\",\"name\":\"AdaptiveTicker\",\"id\":\"p1033\",\"attributes\":{\"num_minor_ticks\":0,\"mantissas\":[1,2,5],\"max_interval\":500.0}},{\"type\":\"object\",\"name\":\"AdaptiveTicker\",\"id\":\"p1034\",\"attributes\":{\"num_minor_ticks\":0,\"base\":60,\"mantissas\":[1,2,5,10,15,20,30],\"min_interval\":1000.0,\"max_interval\":1800000.0}},{\"type\":\"object\",\"name\":\"AdaptiveTicker\",\"id\":\"p1035\",\"attributes\":{\"num_minor_ticks\":0,\"base\":24,\"mantissas\":[1,2,4,6,8,12],\"min_interval\":3600000.0,\"max_interval\":43200000.0}},{\"type\":\"object\",\"name\":\"DaysTicker\",\"id\":\"p1036\",\"attributes\":{\"days\":[1,2,3,4,5,6,7,8,9,10,11,12,13,14,15,16,17,18,19,20,21,22,23,24,25,26,27,28,29,30,31]}},{\"type\":\"object\",\"name\":\"DaysTicker\",\"id\":\"p1037\",\"attributes\":{\"days\":[1,4,7,10,13,16,19,22,25,28]}},{\"type\":\"object\",\"name\":\"DaysTicker\",\"id\":\"p1038\",\"attributes\":{\"days\":[1,8,15,22]}},{\"type\":\"object\",\"name\":\"DaysTicker\",\"id\":\"p1039\",\"attributes\":{\"days\":[1,15]}},{\"type\":\"object\",\"name\":\"MonthsTicker\",\"id\":\"p1040\",\"attributes\":{\"months\":[0,1,2,3,4,5,6,7,8,9,10,11]}},{\"type\":\"object\",\"name\":\"MonthsTicker\",\"id\":\"p1041\",\"attributes\":{\"months\":[0,2,4,6,8,10]}},{\"type\":\"object\",\"name\":\"MonthsTicker\",\"id\":\"p1042\",\"attributes\":{\"months\":[0,4,8]}},{\"type\":\"object\",\"name\":\"MonthsTicker\",\"id\":\"p1043\",\"attributes\":{\"months\":[0,6]}},{\"type\":\"object\",\"name\":\"YearsTicker\",\"id\":\"p1044\"}]}},\"formatter\":{\"type\":\"object\",\"name\":\"DatetimeTickFormatter\",\"id\":\"p1045\"},\"axis_label\":\"time\",\"major_label_policy\":{\"type\":\"object\",\"name\":\"AllLabels\",\"id\":\"p1046\"}}}],\"center\":[{\"type\":\"object\",\"name\":\"Grid\",\"id\":\"p1047\",\"attributes\":{\"axis\":{\"id\":\"p1031\"},\"grid_line_color\":null}},{\"type\":\"object\",\"name\":\"Grid\",\"id\":\"p1052\",\"attributes\":{\"dimension\":1,\"axis\":{\"id\":\"p1048\"},\"grid_line_color\":null}},{\"type\":\"object\",\"name\":\"Legend\",\"id\":\"p1074\",\"attributes\":{\"location\":\"top_left\",\"click_policy\":\"mute\",\"items\":[{\"type\":\"object\",\"name\":\"LegendItem\",\"id\":\"p1075\",\"attributes\":{\"label\":{\"type\":\"value\",\"value\":\"cow amm\"},\"renderers\":[{\"id\":\"p1071\"}]}},{\"type\":\"object\",\"name\":\"LegendItem\",\"id\":\"p1089\",\"attributes\":{\"label\":{\"type\":\"value\",\"value\":\"balancer\"},\"renderers\":[{\"id\":\"p1086\"}]}}]}}],\"min_border_top\":10,\"min_border_bottom\":10,\"min_border_left\":10,\"min_border_right\":10,\"output_backend\":\"webgl\"}},{\"type\":\"object\",\"name\":\"Spacer\",\"id\":\"p1092\",\"attributes\":{\"name\":\"HSpacer01082\",\"stylesheets\":[\"\\n:host(.pn-loading.pn-arc):before, .pn-loading.pn-arc:before {\\n  background-image: url(\\\"data:image/svg+xml;base64,PHN2ZyB4bWxucz0iaHR0cDovL3d3dy53My5vcmcvMjAwMC9zdmciIHN0eWxlPSJtYXJnaW46IGF1dG87IGJhY2tncm91bmQ6IG5vbmU7IGRpc3BsYXk6IGJsb2NrOyBzaGFwZS1yZW5kZXJpbmc6IGF1dG87IiB2aWV3Qm94PSIwIDAgMTAwIDEwMCIgcHJlc2VydmVBc3BlY3RSYXRpbz0ieE1pZFlNaWQiPiAgPGNpcmNsZSBjeD0iNTAiIGN5PSI1MCIgZmlsbD0ibm9uZSIgc3Ryb2tlPSIjYzNjM2MzIiBzdHJva2Utd2lkdGg9IjEwIiByPSIzNSIgc3Ryb2tlLWRhc2hhcnJheT0iMTY0LjkzMzYxNDMxMzQ2NDE1IDU2Ljk3Nzg3MTQzNzgyMTM4Ij4gICAgPGFuaW1hdGVUcmFuc2Zvcm0gYXR0cmlidXRlTmFtZT0idHJhbnNmb3JtIiB0eXBlPSJyb3RhdGUiIHJlcGVhdENvdW50PSJpbmRlZmluaXRlIiBkdXI9IjFzIiB2YWx1ZXM9IjAgNTAgNTA7MzYwIDUwIDUwIiBrZXlUaW1lcz0iMDsxIj48L2FuaW1hdGVUcmFuc2Zvcm0+ICA8L2NpcmNsZT48L3N2Zz4=\\\");\\n  background-size: auto calc(min(50%, 400px));\\n}\",{\"id\":\"p1007\"},{\"id\":\"p1005\"},{\"id\":\"p1006\"}],\"margin\":0,\"sizing_mode\":\"stretch_width\",\"align\":\"start\"}}]}}],\"defs\":[{\"type\":\"model\",\"name\":\"ReactiveHTML1\"},{\"type\":\"model\",\"name\":\"FlexBox1\",\"properties\":[{\"name\":\"align_content\",\"kind\":\"Any\",\"default\":\"flex-start\"},{\"name\":\"align_items\",\"kind\":\"Any\",\"default\":\"flex-start\"},{\"name\":\"flex_direction\",\"kind\":\"Any\",\"default\":\"row\"},{\"name\":\"flex_wrap\",\"kind\":\"Any\",\"default\":\"wrap\"},{\"name\":\"justify_content\",\"kind\":\"Any\",\"default\":\"flex-start\"}]},{\"type\":\"model\",\"name\":\"FloatPanel1\",\"properties\":[{\"name\":\"config\",\"kind\":\"Any\",\"default\":{\"type\":\"map\"}},{\"name\":\"contained\",\"kind\":\"Any\",\"default\":true},{\"name\":\"position\",\"kind\":\"Any\",\"default\":\"right-top\"},{\"name\":\"offsetx\",\"kind\":\"Any\",\"default\":null},{\"name\":\"offsety\",\"kind\":\"Any\",\"default\":null},{\"name\":\"theme\",\"kind\":\"Any\",\"default\":\"primary\"},{\"name\":\"status\",\"kind\":\"Any\",\"default\":\"normalized\"}]},{\"type\":\"model\",\"name\":\"GridStack1\",\"properties\":[{\"name\":\"mode\",\"kind\":\"Any\",\"default\":\"warn\"},{\"name\":\"ncols\",\"kind\":\"Any\",\"default\":null},{\"name\":\"nrows\",\"kind\":\"Any\",\"default\":null},{\"name\":\"allow_resize\",\"kind\":\"Any\",\"default\":true},{\"name\":\"allow_drag\",\"kind\":\"Any\",\"default\":true},{\"name\":\"state\",\"kind\":\"Any\",\"default\":[]}]},{\"type\":\"model\",\"name\":\"drag1\",\"properties\":[{\"name\":\"slider_width\",\"kind\":\"Any\",\"default\":5},{\"name\":\"slider_color\",\"kind\":\"Any\",\"default\":\"black\"},{\"name\":\"value\",\"kind\":\"Any\",\"default\":50}]},{\"type\":\"model\",\"name\":\"click1\",\"properties\":[{\"name\":\"terminal_output\",\"kind\":\"Any\",\"default\":\"\"},{\"name\":\"debug_name\",\"kind\":\"Any\",\"default\":\"\"},{\"name\":\"clears\",\"kind\":\"Any\",\"default\":0}]},{\"type\":\"model\",\"name\":\"copy_to_clipboard1\",\"properties\":[{\"name\":\"fill\",\"kind\":\"Any\",\"default\":\"none\"},{\"name\":\"value\",\"kind\":\"Any\",\"default\":null}]},{\"type\":\"model\",\"name\":\"FastWrapper1\",\"properties\":[{\"name\":\"object\",\"kind\":\"Any\",\"default\":null},{\"name\":\"style\",\"kind\":\"Any\",\"default\":null}]},{\"type\":\"model\",\"name\":\"NotificationAreaBase1\",\"properties\":[{\"name\":\"js_events\",\"kind\":\"Any\",\"default\":{\"type\":\"map\"}},{\"name\":\"position\",\"kind\":\"Any\",\"default\":\"bottom-right\"},{\"name\":\"_clear\",\"kind\":\"Any\",\"default\":0}]},{\"type\":\"model\",\"name\":\"NotificationArea1\",\"properties\":[{\"name\":\"js_events\",\"kind\":\"Any\",\"default\":{\"type\":\"map\"}},{\"name\":\"notifications\",\"kind\":\"Any\",\"default\":[]},{\"name\":\"position\",\"kind\":\"Any\",\"default\":\"bottom-right\"},{\"name\":\"_clear\",\"kind\":\"Any\",\"default\":0},{\"name\":\"types\",\"kind\":\"Any\",\"default\":[{\"type\":\"map\",\"entries\":[[\"type\",\"warning\"],[\"background\",\"#ffc107\"],[\"icon\",{\"type\":\"map\",\"entries\":[[\"className\",\"fas fa-exclamation-triangle\"],[\"tagName\",\"i\"],[\"color\",\"white\"]]}]]},{\"type\":\"map\",\"entries\":[[\"type\",\"info\"],[\"background\",\"#007bff\"],[\"icon\",{\"type\":\"map\",\"entries\":[[\"className\",\"fas fa-info-circle\"],[\"tagName\",\"i\"],[\"color\",\"white\"]]}]]}]}]},{\"type\":\"model\",\"name\":\"Notification\",\"properties\":[{\"name\":\"background\",\"kind\":\"Any\",\"default\":null},{\"name\":\"duration\",\"kind\":\"Any\",\"default\":3000},{\"name\":\"icon\",\"kind\":\"Any\",\"default\":null},{\"name\":\"message\",\"kind\":\"Any\",\"default\":\"\"},{\"name\":\"notification_type\",\"kind\":\"Any\",\"default\":null},{\"name\":\"_destroyed\",\"kind\":\"Any\",\"default\":false}]},{\"type\":\"model\",\"name\":\"TemplateActions1\",\"properties\":[{\"name\":\"open_modal\",\"kind\":\"Any\",\"default\":0},{\"name\":\"close_modal\",\"kind\":\"Any\",\"default\":0}]},{\"type\":\"model\",\"name\":\"BootstrapTemplateActions1\",\"properties\":[{\"name\":\"open_modal\",\"kind\":\"Any\",\"default\":0},{\"name\":\"close_modal\",\"kind\":\"Any\",\"default\":0}]},{\"type\":\"model\",\"name\":\"MaterialTemplateActions1\",\"properties\":[{\"name\":\"open_modal\",\"kind\":\"Any\",\"default\":0},{\"name\":\"close_modal\",\"kind\":\"Any\",\"default\":0}]}]}};\n",
       "  var render_items = [{\"docid\":\"f3a09ea3-37ec-479d-a05c-e40bd8a80760\",\"roots\":{\"p1004\":\"a10815e3-babf-49ce-b6ad-861e6368f81f\"},\"root_ids\":[\"p1004\"]}];\n",
       "  var docs = Object.values(docs_json)\n",
       "  if (!docs) {\n",
       "    return\n",
       "  }\n",
       "  const py_version = docs[0].version.replace('rc', '-rc.').replace('.dev', '-dev.')\n",
       "  function embed_document(root) {\n",
       "    var Bokeh = get_bokeh(root)\n",
       "    Bokeh.embed.embed_items_notebook(docs_json, render_items);\n",
       "    for (const render_item of render_items) {\n",
       "      for (const root_id of render_item.root_ids) {\n",
       "\tconst id_el = document.getElementById(root_id)\n",
       "\tif (id_el.children.length && (id_el.children[0].className === 'bk-root')) {\n",
       "\t  const root_el = id_el.children[0]\n",
       "\t  root_el.id = root_el.id + '-rendered'\n",
       "\t}\n",
       "      }\n",
       "    }\n",
       "  }\n",
       "  function get_bokeh(root) {\n",
       "    if (root.Bokeh === undefined) {\n",
       "      return null\n",
       "    } else if (root.Bokeh.version !== py_version) {\n",
       "      if (root.Bokeh.versions === undefined || !root.Bokeh.versions.has(py_version)) {\n",
       "\treturn null\n",
       "      }\n",
       "      return root.Bokeh.versions.get(py_version);\n",
       "    } else if (root.Bokeh.version === py_version) {\n",
       "      return root.Bokeh\n",
       "    }\n",
       "    return null\n",
       "  }\n",
       "  function is_loaded(root) {\n",
       "    var Bokeh = get_bokeh(root)\n",
       "    return (Bokeh != null && Bokeh.Panel !== undefined)\n",
       "  }\n",
       "  if (is_loaded(root)) {\n",
       "    embed_document(root);\n",
       "  } else {\n",
       "    var attempts = 0;\n",
       "    var timer = setInterval(function(root) {\n",
       "      if (is_loaded(root)) {\n",
       "        clearInterval(timer);\n",
       "        embed_document(root);\n",
       "      } else if (document.readyState == \"complete\") {\n",
       "        attempts++;\n",
       "        if (attempts > 200) {\n",
       "          clearInterval(timer);\n",
       "\t  var Bokeh = get_bokeh(root)\n",
       "\t  if (Bokeh == null || Bokeh.Panel == null) {\n",
       "            console.warn(\"Panel: ERROR: Unable to run Panel code because Bokeh or Panel library is missing\");\n",
       "\t  } else {\n",
       "\t    console.warn(\"Panel: WARNING: Attempting to render but not all required libraries could be resolved.\")\n",
       "\t    embed_document(root)\n",
       "\t  }\n",
       "        }\n",
       "      }\n",
       "    }, 25, root)\n",
       "  }\n",
       "})(window);</script>"
      ],
      "text/plain": [
       ":Overlay\n",
       "   .Curve.Cow_amm  :Curve   [time]   (profit_vs_holding_relative)\n",
       "   .Curve.Balancer :Curve   [time]   (profit_vs_holding_relative)"
      ]
     },
     "execution_count": 9,
     "metadata": {
      "application/vnd.holoviews_exec.v0+json": {
       "id": "p1004"
      }
     },
     "output_type": "execute_result"
    }
   ],
   "source": [
    "plt1 = plot_profit_vs_holding(df_cow_aggregate).relabel(\"cow amm\")\n",
    "plt2 = plot_profit_vs_holding(df_balancer_aggregate).relabel(\"balancer\")\n",
    "(plt1 * plt2).opts(legend_position=\"top_left\", title=\"profit vs holding comparison\")"
   ]
  },
  {
   "cell_type": "code",
   "execution_count": null,
   "metadata": {},
   "outputs": [
    {
     "data": {},
     "metadata": {},
     "output_type": "display_data"
    },
    {
     "data": {
      "application/vnd.holoviews_exec.v0+json": "",
      "text/html": [
       "<div id='p1100'>\n",
       "  <div id=\"ab30c679-37e9-48a1-991f-974ae2614f78\" data-root-id=\"p1100\" style=\"display: contents;\"></div>\n",
       "</div>\n",
       "<script type=\"application/javascript\">(function(root) {\n",
       "  var docs_json = {\"56f721c0-d100-4d4f-9d2d-76d1c2c313ac\":{\"version\":\"3.3.4\",\"title\":\"Bokeh Application\",\"roots\":[{\"type\":\"object\",\"name\":\"Row\",\"id\":\"p1100\",\"attributes\":{\"name\":\"Row01296\",\"tags\":[\"embedded\"],\"stylesheets\":[\"\\n:host(.pn-loading.pn-arc):before, .pn-loading.pn-arc:before {\\n  background-image: url(\\\"data:image/svg+xml;base64,PHN2ZyB4bWxucz0iaHR0cDovL3d3dy53My5vcmcvMjAwMC9zdmciIHN0eWxlPSJtYXJnaW46IGF1dG87IGJhY2tncm91bmQ6IG5vbmU7IGRpc3BsYXk6IGJsb2NrOyBzaGFwZS1yZW5kZXJpbmc6IGF1dG87IiB2aWV3Qm94PSIwIDAgMTAwIDEwMCIgcHJlc2VydmVBc3BlY3RSYXRpbz0ieE1pZFlNaWQiPiAgPGNpcmNsZSBjeD0iNTAiIGN5PSI1MCIgZmlsbD0ibm9uZSIgc3Ryb2tlPSIjYzNjM2MzIiBzdHJva2Utd2lkdGg9IjEwIiByPSIzNSIgc3Ryb2tlLWRhc2hhcnJheT0iMTY0LjkzMzYxNDMxMzQ2NDE1IDU2Ljk3Nzg3MTQzNzgyMTM4Ij4gICAgPGFuaW1hdGVUcmFuc2Zvcm0gYXR0cmlidXRlTmFtZT0idHJhbnNmb3JtIiB0eXBlPSJyb3RhdGUiIHJlcGVhdENvdW50PSJpbmRlZmluaXRlIiBkdXI9IjFzIiB2YWx1ZXM9IjAgNTAgNTA7MzYwIDUwIDUwIiBrZXlUaW1lcz0iMDsxIj48L2FuaW1hdGVUcmFuc2Zvcm0+ICA8L2NpcmNsZT48L3N2Zz4=\\\");\\n  background-size: auto calc(min(50%, 400px));\\n}\",{\"type\":\"object\",\"name\":\"ImportedStyleSheet\",\"id\":\"p1103\",\"attributes\":{\"url\":\"https://cdn.holoviz.org/panel/1.3.8/dist/css/loading.css\"}},{\"type\":\"object\",\"name\":\"ImportedStyleSheet\",\"id\":\"p1243\",\"attributes\":{\"url\":\"https://cdn.holoviz.org/panel/1.3.8/dist/css/listpanel.css\"}},{\"type\":\"object\",\"name\":\"ImportedStyleSheet\",\"id\":\"p1101\",\"attributes\":{\"url\":\"https://cdn.holoviz.org/panel/1.3.8/dist/bundled/theme/default.css\"}},{\"type\":\"object\",\"name\":\"ImportedStyleSheet\",\"id\":\"p1102\",\"attributes\":{\"url\":\"https://cdn.holoviz.org/panel/1.3.8/dist/bundled/theme/native.css\"}}],\"margin\":0,\"sizing_mode\":\"stretch_width\",\"align\":\"start\",\"children\":[{\"type\":\"object\",\"name\":\"Spacer\",\"id\":\"p1104\",\"attributes\":{\"name\":\"HSpacer01302\",\"stylesheets\":[\"\\n:host(.pn-loading.pn-arc):before, .pn-loading.pn-arc:before {\\n  background-image: url(\\\"data:image/svg+xml;base64,PHN2ZyB4bWxucz0iaHR0cDovL3d3dy53My5vcmcvMjAwMC9zdmciIHN0eWxlPSJtYXJnaW46IGF1dG87IGJhY2tncm91bmQ6IG5vbmU7IGRpc3BsYXk6IGJsb2NrOyBzaGFwZS1yZW5kZXJpbmc6IGF1dG87IiB2aWV3Qm94PSIwIDAgMTAwIDEwMCIgcHJlc2VydmVBc3BlY3RSYXRpbz0ieE1pZFlNaWQiPiAgPGNpcmNsZSBjeD0iNTAiIGN5PSI1MCIgZmlsbD0ibm9uZSIgc3Ryb2tlPSIjYzNjM2MzIiBzdHJva2Utd2lkdGg9IjEwIiByPSIzNSIgc3Ryb2tlLWRhc2hhcnJheT0iMTY0LjkzMzYxNDMxMzQ2NDE1IDU2Ljk3Nzg3MTQzNzgyMTM4Ij4gICAgPGFuaW1hdGVUcmFuc2Zvcm0gYXR0cmlidXRlTmFtZT0idHJhbnNmb3JtIiB0eXBlPSJyb3RhdGUiIHJlcGVhdENvdW50PSJpbmRlZmluaXRlIiBkdXI9IjFzIiB2YWx1ZXM9IjAgNTAgNTA7MzYwIDUwIDUwIiBrZXlUaW1lcz0iMDsxIj48L2FuaW1hdGVUcmFuc2Zvcm0+ICA8L2NpcmNsZT48L3N2Zz4=\\\");\\n  background-size: auto calc(min(50%, 400px));\\n}\",{\"id\":\"p1103\"},{\"id\":\"p1101\"},{\"id\":\"p1102\"}],\"margin\":0,\"sizing_mode\":\"stretch_width\",\"align\":\"start\"}},{\"type\":\"object\",\"name\":\"GridPlot\",\"id\":\"p1231\",\"attributes\":{\"rows\":null,\"cols\":null,\"toolbar\":{\"type\":\"object\",\"name\":\"Toolbar\",\"id\":\"p1239\",\"attributes\":{\"tools\":[{\"type\":\"object\",\"name\":\"ToolProxy\",\"id\":\"p1233\",\"attributes\":{\"tools\":[{\"type\":\"object\",\"name\":\"WheelZoomTool\",\"id\":\"p1110\",\"attributes\":{\"tags\":[\"hv_created\"],\"renderers\":\"auto\",\"zoom_together\":\"none\"}},{\"type\":\"object\",\"name\":\"WheelZoomTool\",\"id\":\"p1172\",\"attributes\":{\"tags\":[\"hv_created\"],\"renderers\":\"auto\",\"zoom_together\":\"none\"}}]}},{\"type\":\"object\",\"name\":\"ToolProxy\",\"id\":\"p1234\",\"attributes\":{\"tools\":[{\"type\":\"object\",\"name\":\"HoverTool\",\"id\":\"p1111\",\"attributes\":{\"tags\":[\"hv_created\"],\"renderers\":[{\"type\":\"object\",\"name\":\"GlyphRenderer\",\"id\":\"p1164\",\"attributes\":{\"data_source\":{\"type\":\"object\",\"name\":\"ColumnDataSource\",\"id\":\"p1155\",\"attributes\":{\"selected\":{\"type\":\"object\",\"name\":\"Selection\",\"id\":\"p1156\",\"attributes\":{\"indices\":[],\"line_indices\":[]}},\"selection_policy\":{\"type\":\"object\",\"name\":\"UnionRenderers\",\"id\":\"p1157\"},\"data\":{\"type\":\"map\",\"entries\":[[\"time\",{\"type\":\"ndarray\",\"array\":{\"type\":\"bytes\",\"data\":\"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\"},\"shape\":[337],\"dtype\":\"float64\",\"order\":\"little\"}],[\"price\",{\"type\":\"ndarray\",\"array\":{\"type\":\"bytes\",\"data\":\"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\"},\"shape\":[337],\"dtype\":\"float64\",\"order\":\"little\"}]]}}},\"view\":{\"type\":\"object\",\"name\":\"CDSView\",\"id\":\"p1165\",\"attributes\":{\"filter\":{\"type\":\"object\",\"name\":\"AllIndices\",\"id\":\"p1166\"}}},\"glyph\":{\"type\":\"object\",\"name\":\"Line\",\"id\":\"p1161\",\"attributes\":{\"tags\":[\"apply_ranges\"],\"x\":{\"type\":\"field\",\"field\":\"time\"},\"y\":{\"type\":\"field\",\"field\":\"price\"},\"line_color\":\"#30a2da\",\"line_width\":2}},\"selection_glyph\":{\"type\":\"object\",\"name\":\"Line\",\"id\":\"p1167\",\"attributes\":{\"tags\":[\"apply_ranges\"],\"x\":{\"type\":\"field\",\"field\":\"time\"},\"y\":{\"type\":\"field\",\"field\":\"price\"},\"line_color\":\"#30a2da\",\"line_width\":2}},\"nonselection_glyph\":{\"type\":\"object\",\"name\":\"Line\",\"id\":\"p1162\",\"attributes\":{\"tags\":[\"apply_ranges\"],\"x\":{\"type\":\"field\",\"field\":\"time\"},\"y\":{\"type\":\"field\",\"field\":\"price\"},\"line_color\":\"#30a2da\",\"line_alpha\":0.1,\"line_width\":2}},\"muted_glyph\":{\"type\":\"object\",\"name\":\"Line\",\"id\":\"p1163\",\"attributes\":{\"tags\":[\"apply_ranges\"],\"x\":{\"type\":\"field\",\"field\":\"time\"},\"y\":{\"type\":\"field\",\"field\":\"price\"},\"line_color\":\"#30a2da\",\"line_alpha\":0.2,\"line_width\":2}}}}],\"tooltips\":[[\"time\",\"@{time}{%F %T}\"],[\"price\",\"@{price}\"]],\"formatters\":{\"type\":\"map\",\"entries\":[[\"@{time}\",\"datetime\"]]}}},{\"type\":\"object\",\"name\":\"HoverTool\",\"id\":\"p1173\",\"attributes\":{\"tags\":[\"hv_created\"],\"renderers\":[{\"type\":\"object\",\"name\":\"GlyphRenderer\",\"id\":\"p1226\",\"attributes\":{\"data_source\":{\"type\":\"object\",\"name\":\"ColumnDataSource\",\"id\":\"p1217\",\"attributes\":{\"selected\":{\"type\":\"object\",\"name\":\"Selection\",\"id\":\"p1218\",\"attributes\":{\"indices\":[],\"line_indices\":[]}},\"selection_policy\":{\"type\":\"object\",\"name\":\"UnionRenderers\",\"id\":\"p1219\"},\"data\":{\"type\":\"map\",\"entries\":[[\"time\",{\"type\":\"ndarray\",\"array\":{\"type\":\"bytes\",\"data\":\"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\"},\"shape\":[337],\"dtype\":\"float64\",\"order\":\"little\"}],[\"price_variance\",{\"type\":\"ndarray\",\"array\":{\"type\":\"bytes\",\"data\":\"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\"},\"shape\":[337],\"dtype\":\"float64\",\"order\":\"little\"}]]}}},\"view\":{\"type\":\"object\",\"name\":\"CDSView\",\"id\":\"p1227\",\"attributes\":{\"filter\":{\"type\":\"object\",\"name\":\"AllIndices\",\"id\":\"p1228\"}}},\"glyph\":{\"type\":\"object\",\"name\":\"Line\",\"id\":\"p1223\",\"attributes\":{\"tags\":[\"apply_ranges\"],\"x\":{\"type\":\"field\",\"field\":\"time\"},\"y\":{\"type\":\"field\",\"field\":\"price_variance\"},\"line_color\":\"#30a2da\",\"line_width\":2}},\"selection_glyph\":{\"type\":\"object\",\"name\":\"Line\",\"id\":\"p1229\",\"attributes\":{\"tags\":[\"apply_ranges\"],\"x\":{\"type\":\"field\",\"field\":\"time\"},\"y\":{\"type\":\"field\",\"field\":\"price_variance\"},\"line_color\":\"#30a2da\",\"line_width\":2}},\"nonselection_glyph\":{\"type\":\"object\",\"name\":\"Line\",\"id\":\"p1224\",\"attributes\":{\"tags\":[\"apply_ranges\"],\"x\":{\"type\":\"field\",\"field\":\"time\"},\"y\":{\"type\":\"field\",\"field\":\"price_variance\"},\"line_color\":\"#30a2da\",\"line_alpha\":0.1,\"line_width\":2}},\"muted_glyph\":{\"type\":\"object\",\"name\":\"Line\",\"id\":\"p1225\",\"attributes\":{\"tags\":[\"apply_ranges\"],\"x\":{\"type\":\"field\",\"field\":\"time\"},\"y\":{\"type\":\"field\",\"field\":\"price_variance\"},\"line_color\":\"#30a2da\",\"line_alpha\":0.2,\"line_width\":2}}}}],\"tooltips\":[[\"time\",\"@{time}{%F %T}\"],[\"price_variance\",\"@{price_variance}\"]],\"formatters\":{\"type\":\"map\",\"entries\":[[\"@{time}\",\"datetime\"]]}}}]}},{\"type\":\"object\",\"name\":\"SaveTool\",\"id\":\"p1235\"},{\"type\":\"object\",\"name\":\"ToolProxy\",\"id\":\"p1236\",\"attributes\":{\"tools\":[{\"type\":\"object\",\"name\":\"PanTool\",\"id\":\"p1147\"},{\"type\":\"object\",\"name\":\"PanTool\",\"id\":\"p1209\"}]}},{\"type\":\"object\",\"name\":\"ToolProxy\",\"id\":\"p1237\",\"attributes\":{\"tools\":[{\"type\":\"object\",\"name\":\"BoxZoomTool\",\"id\":\"p1148\",\"attributes\":{\"overlay\":{\"type\":\"object\",\"name\":\"BoxAnnotation\",\"id\":\"p1149\",\"attributes\":{\"syncable\":false,\"level\":\"overlay\",\"visible\":false,\"left\":{\"type\":\"number\",\"value\":\"nan\"},\"right\":{\"type\":\"number\",\"value\":\"nan\"},\"top\":{\"type\":\"number\",\"value\":\"nan\"},\"bottom\":{\"type\":\"number\",\"value\":\"nan\"},\"left_units\":\"canvas\",\"right_units\":\"canvas\",\"top_units\":\"canvas\",\"bottom_units\":\"canvas\",\"line_color\":\"black\",\"line_alpha\":1.0,\"line_width\":2,\"line_dash\":[4,4],\"fill_color\":\"lightgrey\",\"fill_alpha\":0.5}}}},{\"type\":\"object\",\"name\":\"BoxZoomTool\",\"id\":\"p1210\",\"attributes\":{\"overlay\":{\"type\":\"object\",\"name\":\"BoxAnnotation\",\"id\":\"p1211\",\"attributes\":{\"syncable\":false,\"level\":\"overlay\",\"visible\":false,\"left\":{\"type\":\"number\",\"value\":\"nan\"},\"right\":{\"type\":\"number\",\"value\":\"nan\"},\"top\":{\"type\":\"number\",\"value\":\"nan\"},\"bottom\":{\"type\":\"number\",\"value\":\"nan\"},\"left_units\":\"canvas\",\"right_units\":\"canvas\",\"top_units\":\"canvas\",\"bottom_units\":\"canvas\",\"line_color\":\"black\",\"line_alpha\":1.0,\"line_width\":2,\"line_dash\":[4,4],\"fill_color\":\"lightgrey\",\"fill_alpha\":0.5}}}}]}},{\"type\":\"object\",\"name\":\"ToolProxy\",\"id\":\"p1238\",\"attributes\":{\"tools\":[{\"type\":\"object\",\"name\":\"ResetTool\",\"id\":\"p1154\"},{\"type\":\"object\",\"name\":\"ResetTool\",\"id\":\"p1216\"}]}}]}},\"children\":[[{\"type\":\"object\",\"name\":\"Figure\",\"id\":\"p1112\",\"attributes\":{\"width\":700,\"height\":300,\"sizing_mode\":\"fixed\",\"align\":\"start\",\"x_range\":{\"type\":\"object\",\"name\":\"Range1d\",\"id\":\"p1105\",\"attributes\":{\"tags\":[[[\"time\",\"time\",null]],[]],\"start\":1710493488000.0,\"end\":1711702366000.0,\"reset_start\":1710493488000.0,\"reset_end\":1711702366000.0}},\"y_range\":{\"type\":\"object\",\"name\":\"Range1d\",\"id\":\"p1106\",\"attributes\":{\"tags\":[[[\"price\",\"price\",null]],{\"type\":\"map\",\"entries\":[[\"invert_yaxis\",false],[\"autorange\",false]]}],\"start\":8.98631201939222e-05,\"end\":0.00010430735236170374,\"reset_start\":8.98631201939222e-05,\"reset_end\":0.00010430735236170374}},\"x_scale\":{\"type\":\"object\",\"name\":\"LinearScale\",\"id\":\"p1122\"},\"y_scale\":{\"type\":\"object\",\"name\":\"LinearScale\",\"id\":\"p1123\"},\"title\":{\"type\":\"object\",\"name\":\"Title\",\"id\":\"p1115\",\"attributes\":{\"text\":\"price of WETH in ETH\",\"text_color\":\"black\",\"text_font_size\":\"12pt\"}},\"renderers\":[{\"id\":\"p1164\"}],\"toolbar\":{\"type\":\"object\",\"name\":\"Toolbar\",\"id\":\"p1121\",\"attributes\":{\"tools\":[{\"id\":\"p1110\"},{\"id\":\"p1111\"},{\"type\":\"object\",\"name\":\"SaveTool\",\"id\":\"p1146\"},{\"id\":\"p1147\"},{\"id\":\"p1148\"},{\"id\":\"p1154\"}],\"active_drag\":{\"id\":\"p1147\"},\"active_scroll\":{\"id\":\"p1110\"}}},\"toolbar_location\":null,\"left\":[{\"type\":\"object\",\"name\":\"LinearAxis\",\"id\":\"p1141\",\"attributes\":{\"ticker\":{\"type\":\"object\",\"name\":\"BasicTicker\",\"id\":\"p1142\",\"attributes\":{\"mantissas\":[1,2,5]}},\"formatter\":{\"type\":\"object\",\"name\":\"BasicTickFormatter\",\"id\":\"p1143\"},\"axis_label\":\"price\",\"major_label_policy\":{\"type\":\"object\",\"name\":\"AllLabels\",\"id\":\"p1144\"}}}],\"below\":[{\"type\":\"object\",\"name\":\"DatetimeAxis\",\"id\":\"p1124\",\"attributes\":{\"ticker\":{\"type\":\"object\",\"name\":\"DatetimeTicker\",\"id\":\"p1125\",\"attributes\":{\"num_minor_ticks\":5,\"tickers\":[{\"type\":\"object\",\"name\":\"AdaptiveTicker\",\"id\":\"p1126\",\"attributes\":{\"num_minor_ticks\":0,\"mantissas\":[1,2,5],\"max_interval\":500.0}},{\"type\":\"object\",\"name\":\"AdaptiveTicker\",\"id\":\"p1127\",\"attributes\":{\"num_minor_ticks\":0,\"base\":60,\"mantissas\":[1,2,5,10,15,20,30],\"min_interval\":1000.0,\"max_interval\":1800000.0}},{\"type\":\"object\",\"name\":\"AdaptiveTicker\",\"id\":\"p1128\",\"attributes\":{\"num_minor_ticks\":0,\"base\":24,\"mantissas\":[1,2,4,6,8,12],\"min_interval\":3600000.0,\"max_interval\":43200000.0}},{\"type\":\"object\",\"name\":\"DaysTicker\",\"id\":\"p1129\",\"attributes\":{\"days\":[1,2,3,4,5,6,7,8,9,10,11,12,13,14,15,16,17,18,19,20,21,22,23,24,25,26,27,28,29,30,31]}},{\"type\":\"object\",\"name\":\"DaysTicker\",\"id\":\"p1130\",\"attributes\":{\"days\":[1,4,7,10,13,16,19,22,25,28]}},{\"type\":\"object\",\"name\":\"DaysTicker\",\"id\":\"p1131\",\"attributes\":{\"days\":[1,8,15,22]}},{\"type\":\"object\",\"name\":\"DaysTicker\",\"id\":\"p1132\",\"attributes\":{\"days\":[1,15]}},{\"type\":\"object\",\"name\":\"MonthsTicker\",\"id\":\"p1133\",\"attributes\":{\"months\":[0,1,2,3,4,5,6,7,8,9,10,11]}},{\"type\":\"object\",\"name\":\"MonthsTicker\",\"id\":\"p1134\",\"attributes\":{\"months\":[0,2,4,6,8,10]}},{\"type\":\"object\",\"name\":\"MonthsTicker\",\"id\":\"p1135\",\"attributes\":{\"months\":[0,4,8]}},{\"type\":\"object\",\"name\":\"MonthsTicker\",\"id\":\"p1136\",\"attributes\":{\"months\":[0,6]}},{\"type\":\"object\",\"name\":\"YearsTicker\",\"id\":\"p1137\"}]}},\"formatter\":{\"type\":\"object\",\"name\":\"DatetimeTickFormatter\",\"id\":\"p1138\"},\"axis_label\":\"time\",\"major_label_policy\":{\"type\":\"object\",\"name\":\"AllLabels\",\"id\":\"p1139\"}}}],\"center\":[{\"type\":\"object\",\"name\":\"Grid\",\"id\":\"p1140\",\"attributes\":{\"axis\":{\"id\":\"p1124\"},\"grid_line_color\":null}},{\"type\":\"object\",\"name\":\"Grid\",\"id\":\"p1145\",\"attributes\":{\"dimension\":1,\"axis\":{\"id\":\"p1141\"},\"grid_line_color\":null}}],\"min_border_top\":10,\"min_border_bottom\":10,\"min_border_left\":10,\"min_border_right\":10,\"output_backend\":\"webgl\"}},0,0],[{\"type\":\"object\",\"name\":\"Figure\",\"id\":\"p1174\",\"attributes\":{\"width\":700,\"height\":300,\"sizing_mode\":\"fixed\",\"align\":\"start\",\"x_range\":{\"id\":\"p1105\"},\"y_range\":{\"type\":\"object\",\"name\":\"Range1d\",\"id\":\"p1168\",\"attributes\":{\"tags\":[[[\"price_variance\",\"price_variance\",null]],{\"type\":\"map\",\"entries\":[[\"invert_yaxis\",false],[\"autorange\",false]]}],\"start\":-1.2406836656407283e-12,\"end\":1.3859863292466023e-11,\"reset_start\":-1.2406836656407283e-12,\"reset_end\":1.3859863292466023e-11}},\"x_scale\":{\"type\":\"object\",\"name\":\"LinearScale\",\"id\":\"p1184\"},\"y_scale\":{\"type\":\"object\",\"name\":\"LinearScale\",\"id\":\"p1185\"},\"title\":{\"type\":\"object\",\"name\":\"Title\",\"id\":\"p1177\",\"attributes\":{\"text\":\"price variance of COW in ETH\",\"text_color\":\"black\",\"text_font_size\":\"12pt\"}},\"renderers\":[{\"id\":\"p1226\"}],\"toolbar\":{\"type\":\"object\",\"name\":\"Toolbar\",\"id\":\"p1183\",\"attributes\":{\"tools\":[{\"id\":\"p1172\"},{\"id\":\"p1173\"},{\"type\":\"object\",\"name\":\"SaveTool\",\"id\":\"p1208\"},{\"id\":\"p1209\"},{\"id\":\"p1210\"},{\"id\":\"p1216\"}],\"active_drag\":{\"id\":\"p1209\"},\"active_scroll\":{\"id\":\"p1172\"}}},\"toolbar_location\":null,\"left\":[{\"type\":\"object\",\"name\":\"LinearAxis\",\"id\":\"p1203\",\"attributes\":{\"ticker\":{\"type\":\"object\",\"name\":\"BasicTicker\",\"id\":\"p1204\",\"attributes\":{\"mantissas\":[1,2,5]}},\"formatter\":{\"type\":\"object\",\"name\":\"BasicTickFormatter\",\"id\":\"p1205\"},\"axis_label\":\"price_variance\",\"major_label_policy\":{\"type\":\"object\",\"name\":\"AllLabels\",\"id\":\"p1206\"}}}],\"below\":[{\"type\":\"object\",\"name\":\"DatetimeAxis\",\"id\":\"p1186\",\"attributes\":{\"ticker\":{\"type\":\"object\",\"name\":\"DatetimeTicker\",\"id\":\"p1187\",\"attributes\":{\"num_minor_ticks\":5,\"tickers\":[{\"type\":\"object\",\"name\":\"AdaptiveTicker\",\"id\":\"p1188\",\"attributes\":{\"num_minor_ticks\":0,\"mantissas\":[1,2,5],\"max_interval\":500.0}},{\"type\":\"object\",\"name\":\"AdaptiveTicker\",\"id\":\"p1189\",\"attributes\":{\"num_minor_ticks\":0,\"base\":60,\"mantissas\":[1,2,5,10,15,20,30],\"min_interval\":1000.0,\"max_interval\":1800000.0}},{\"type\":\"object\",\"name\":\"AdaptiveTicker\",\"id\":\"p1190\",\"attributes\":{\"num_minor_ticks\":0,\"base\":24,\"mantissas\":[1,2,4,6,8,12],\"min_interval\":3600000.0,\"max_interval\":43200000.0}},{\"type\":\"object\",\"name\":\"DaysTicker\",\"id\":\"p1191\",\"attributes\":{\"days\":[1,2,3,4,5,6,7,8,9,10,11,12,13,14,15,16,17,18,19,20,21,22,23,24,25,26,27,28,29,30,31]}},{\"type\":\"object\",\"name\":\"DaysTicker\",\"id\":\"p1192\",\"attributes\":{\"days\":[1,4,7,10,13,16,19,22,25,28]}},{\"type\":\"object\",\"name\":\"DaysTicker\",\"id\":\"p1193\",\"attributes\":{\"days\":[1,8,15,22]}},{\"type\":\"object\",\"name\":\"DaysTicker\",\"id\":\"p1194\",\"attributes\":{\"days\":[1,15]}},{\"type\":\"object\",\"name\":\"MonthsTicker\",\"id\":\"p1195\",\"attributes\":{\"months\":[0,1,2,3,4,5,6,7,8,9,10,11]}},{\"type\":\"object\",\"name\":\"MonthsTicker\",\"id\":\"p1196\",\"attributes\":{\"months\":[0,2,4,6,8,10]}},{\"type\":\"object\",\"name\":\"MonthsTicker\",\"id\":\"p1197\",\"attributes\":{\"months\":[0,4,8]}},{\"type\":\"object\",\"name\":\"MonthsTicker\",\"id\":\"p1198\",\"attributes\":{\"months\":[0,6]}},{\"type\":\"object\",\"name\":\"YearsTicker\",\"id\":\"p1199\"}]}},\"formatter\":{\"type\":\"object\",\"name\":\"DatetimeTickFormatter\",\"id\":\"p1200\"},\"axis_label\":\"time\",\"major_label_policy\":{\"type\":\"object\",\"name\":\"AllLabels\",\"id\":\"p1201\"}}}],\"center\":[{\"type\":\"object\",\"name\":\"Grid\",\"id\":\"p1202\",\"attributes\":{\"axis\":{\"id\":\"p1186\"},\"grid_line_color\":null}},{\"type\":\"object\",\"name\":\"Grid\",\"id\":\"p1207\",\"attributes\":{\"dimension\":1,\"axis\":{\"id\":\"p1203\"},\"grid_line_color\":null}}],\"min_border_top\":10,\"min_border_bottom\":10,\"min_border_left\":10,\"min_border_right\":10,\"output_backend\":\"webgl\"}},0,1]]}},{\"type\":\"object\",\"name\":\"Spacer\",\"id\":\"p1241\",\"attributes\":{\"name\":\"HSpacer01303\",\"stylesheets\":[\"\\n:host(.pn-loading.pn-arc):before, .pn-loading.pn-arc:before {\\n  background-image: url(\\\"data:image/svg+xml;base64,PHN2ZyB4bWxucz0iaHR0cDovL3d3dy53My5vcmcvMjAwMC9zdmciIHN0eWxlPSJtYXJnaW46IGF1dG87IGJhY2tncm91bmQ6IG5vbmU7IGRpc3BsYXk6IGJsb2NrOyBzaGFwZS1yZW5kZXJpbmc6IGF1dG87IiB2aWV3Qm94PSIwIDAgMTAwIDEwMCIgcHJlc2VydmVBc3BlY3RSYXRpbz0ieE1pZFlNaWQiPiAgPGNpcmNsZSBjeD0iNTAiIGN5PSI1MCIgZmlsbD0ibm9uZSIgc3Ryb2tlPSIjYzNjM2MzIiBzdHJva2Utd2lkdGg9IjEwIiByPSIzNSIgc3Ryb2tlLWRhc2hhcnJheT0iMTY0LjkzMzYxNDMxMzQ2NDE1IDU2Ljk3Nzg3MTQzNzgyMTM4Ij4gICAgPGFuaW1hdGVUcmFuc2Zvcm0gYXR0cmlidXRlTmFtZT0idHJhbnNmb3JtIiB0eXBlPSJyb3RhdGUiIHJlcGVhdENvdW50PSJpbmRlZmluaXRlIiBkdXI9IjFzIiB2YWx1ZXM9IjAgNTAgNTA7MzYwIDUwIDUwIiBrZXlUaW1lcz0iMDsxIj48L2FuaW1hdGVUcmFuc2Zvcm0+ICA8L2NpcmNsZT48L3N2Zz4=\\\");\\n  background-size: auto calc(min(50%, 400px));\\n}\",{\"id\":\"p1103\"},{\"id\":\"p1101\"},{\"id\":\"p1102\"}],\"margin\":0,\"sizing_mode\":\"stretch_width\",\"align\":\"start\"}}]}}],\"defs\":[{\"type\":\"model\",\"name\":\"ReactiveHTML1\"},{\"type\":\"model\",\"name\":\"FlexBox1\",\"properties\":[{\"name\":\"align_content\",\"kind\":\"Any\",\"default\":\"flex-start\"},{\"name\":\"align_items\",\"kind\":\"Any\",\"default\":\"flex-start\"},{\"name\":\"flex_direction\",\"kind\":\"Any\",\"default\":\"row\"},{\"name\":\"flex_wrap\",\"kind\":\"Any\",\"default\":\"wrap\"},{\"name\":\"justify_content\",\"kind\":\"Any\",\"default\":\"flex-start\"}]},{\"type\":\"model\",\"name\":\"FloatPanel1\",\"properties\":[{\"name\":\"config\",\"kind\":\"Any\",\"default\":{\"type\":\"map\"}},{\"name\":\"contained\",\"kind\":\"Any\",\"default\":true},{\"name\":\"position\",\"kind\":\"Any\",\"default\":\"right-top\"},{\"name\":\"offsetx\",\"kind\":\"Any\",\"default\":null},{\"name\":\"offsety\",\"kind\":\"Any\",\"default\":null},{\"name\":\"theme\",\"kind\":\"Any\",\"default\":\"primary\"},{\"name\":\"status\",\"kind\":\"Any\",\"default\":\"normalized\"}]},{\"type\":\"model\",\"name\":\"GridStack1\",\"properties\":[{\"name\":\"mode\",\"kind\":\"Any\",\"default\":\"warn\"},{\"name\":\"ncols\",\"kind\":\"Any\",\"default\":null},{\"name\":\"nrows\",\"kind\":\"Any\",\"default\":null},{\"name\":\"allow_resize\",\"kind\":\"Any\",\"default\":true},{\"name\":\"allow_drag\",\"kind\":\"Any\",\"default\":true},{\"name\":\"state\",\"kind\":\"Any\",\"default\":[]}]},{\"type\":\"model\",\"name\":\"drag1\",\"properties\":[{\"name\":\"slider_width\",\"kind\":\"Any\",\"default\":5},{\"name\":\"slider_color\",\"kind\":\"Any\",\"default\":\"black\"},{\"name\":\"value\",\"kind\":\"Any\",\"default\":50}]},{\"type\":\"model\",\"name\":\"click1\",\"properties\":[{\"name\":\"terminal_output\",\"kind\":\"Any\",\"default\":\"\"},{\"name\":\"debug_name\",\"kind\":\"Any\",\"default\":\"\"},{\"name\":\"clears\",\"kind\":\"Any\",\"default\":0}]},{\"type\":\"model\",\"name\":\"copy_to_clipboard1\",\"properties\":[{\"name\":\"fill\",\"kind\":\"Any\",\"default\":\"none\"},{\"name\":\"value\",\"kind\":\"Any\",\"default\":null}]},{\"type\":\"model\",\"name\":\"FastWrapper1\",\"properties\":[{\"name\":\"object\",\"kind\":\"Any\",\"default\":null},{\"name\":\"style\",\"kind\":\"Any\",\"default\":null}]},{\"type\":\"model\",\"name\":\"NotificationAreaBase1\",\"properties\":[{\"name\":\"js_events\",\"kind\":\"Any\",\"default\":{\"type\":\"map\"}},{\"name\":\"position\",\"kind\":\"Any\",\"default\":\"bottom-right\"},{\"name\":\"_clear\",\"kind\":\"Any\",\"default\":0}]},{\"type\":\"model\",\"name\":\"NotificationArea1\",\"properties\":[{\"name\":\"js_events\",\"kind\":\"Any\",\"default\":{\"type\":\"map\"}},{\"name\":\"notifications\",\"kind\":\"Any\",\"default\":[]},{\"name\":\"position\",\"kind\":\"Any\",\"default\":\"bottom-right\"},{\"name\":\"_clear\",\"kind\":\"Any\",\"default\":0},{\"name\":\"types\",\"kind\":\"Any\",\"default\":[{\"type\":\"map\",\"entries\":[[\"type\",\"warning\"],[\"background\",\"#ffc107\"],[\"icon\",{\"type\":\"map\",\"entries\":[[\"className\",\"fas fa-exclamation-triangle\"],[\"tagName\",\"i\"],[\"color\",\"white\"]]}]]},{\"type\":\"map\",\"entries\":[[\"type\",\"info\"],[\"background\",\"#007bff\"],[\"icon\",{\"type\":\"map\",\"entries\":[[\"className\",\"fas fa-info-circle\"],[\"tagName\",\"i\"],[\"color\",\"white\"]]}]]}]}]},{\"type\":\"model\",\"name\":\"Notification\",\"properties\":[{\"name\":\"background\",\"kind\":\"Any\",\"default\":null},{\"name\":\"duration\",\"kind\":\"Any\",\"default\":3000},{\"name\":\"icon\",\"kind\":\"Any\",\"default\":null},{\"name\":\"message\",\"kind\":\"Any\",\"default\":\"\"},{\"name\":\"notification_type\",\"kind\":\"Any\",\"default\":null},{\"name\":\"_destroyed\",\"kind\":\"Any\",\"default\":false}]},{\"type\":\"model\",\"name\":\"TemplateActions1\",\"properties\":[{\"name\":\"open_modal\",\"kind\":\"Any\",\"default\":0},{\"name\":\"close_modal\",\"kind\":\"Any\",\"default\":0}]},{\"type\":\"model\",\"name\":\"BootstrapTemplateActions1\",\"properties\":[{\"name\":\"open_modal\",\"kind\":\"Any\",\"default\":0},{\"name\":\"close_modal\",\"kind\":\"Any\",\"default\":0}]},{\"type\":\"model\",\"name\":\"MaterialTemplateActions1\",\"properties\":[{\"name\":\"open_modal\",\"kind\":\"Any\",\"default\":0},{\"name\":\"close_modal\",\"kind\":\"Any\",\"default\":0}]}]}};\n",
       "  var render_items = [{\"docid\":\"56f721c0-d100-4d4f-9d2d-76d1c2c313ac\",\"roots\":{\"p1100\":\"ab30c679-37e9-48a1-991f-974ae2614f78\"},\"root_ids\":[\"p1100\"]}];\n",
       "  var docs = Object.values(docs_json)\n",
       "  if (!docs) {\n",
       "    return\n",
       "  }\n",
       "  const py_version = docs[0].version.replace('rc', '-rc.').replace('.dev', '-dev.')\n",
       "  function embed_document(root) {\n",
       "    var Bokeh = get_bokeh(root)\n",
       "    Bokeh.embed.embed_items_notebook(docs_json, render_items);\n",
       "    for (const render_item of render_items) {\n",
       "      for (const root_id of render_item.root_ids) {\n",
       "\tconst id_el = document.getElementById(root_id)\n",
       "\tif (id_el.children.length && (id_el.children[0].className === 'bk-root')) {\n",
       "\t  const root_el = id_el.children[0]\n",
       "\t  root_el.id = root_el.id + '-rendered'\n",
       "\t}\n",
       "      }\n",
       "    }\n",
       "  }\n",
       "  function get_bokeh(root) {\n",
       "    if (root.Bokeh === undefined) {\n",
       "      return null\n",
       "    } else if (root.Bokeh.version !== py_version) {\n",
       "      if (root.Bokeh.versions === undefined || !root.Bokeh.versions.has(py_version)) {\n",
       "\treturn null\n",
       "      }\n",
       "      return root.Bokeh.versions.get(py_version);\n",
       "    } else if (root.Bokeh.version === py_version) {\n",
       "      return root.Bokeh\n",
       "    }\n",
       "    return null\n",
       "  }\n",
       "  function is_loaded(root) {\n",
       "    var Bokeh = get_bokeh(root)\n",
       "    return (Bokeh != null && Bokeh.Panel !== undefined)\n",
       "  }\n",
       "  if (is_loaded(root)) {\n",
       "    embed_document(root);\n",
       "  } else {\n",
       "    var attempts = 0;\n",
       "    var timer = setInterval(function(root) {\n",
       "      if (is_loaded(root)) {\n",
       "        clearInterval(timer);\n",
       "        embed_document(root);\n",
       "      } else if (document.readyState == \"complete\") {\n",
       "        attempts++;\n",
       "        if (attempts > 200) {\n",
       "          clearInterval(timer);\n",
       "\t  var Bokeh = get_bokeh(root)\n",
       "\t  if (Bokeh == null || Bokeh.Panel == null) {\n",
       "            console.warn(\"Panel: ERROR: Unable to run Panel code because Bokeh or Panel library is missing\");\n",
       "\t  } else {\n",
       "\t    console.warn(\"Panel: WARNING: Attempting to render but not all required libraries could be resolved.\")\n",
       "\t    embed_document(root)\n",
       "\t  }\n",
       "        }\n",
       "      }\n",
       "    }, 25, root)\n",
       "  }\n",
       "})(window);</script>"
      ],
      "text/plain": [
       ":Layout\n",
       "   .Curve.Price_of_WETH_in_ETH         :Curve   [time]   (price)\n",
       "   .Curve.Price_variance_of_COW_in_ETH :Curve   [time]   (price_variance)"
      ]
     },
     "execution_count": 10,
     "metadata": {
      "application/vnd.holoviews_exec.v0+json": {
       "id": "p1100"
      }
     },
     "output_type": "execute_result"
    }
   ],
   "source": [
    "plt1 = (\n",
    "    df_token2_prices_in_eth.filter(pl.col(\"time\") >= START_TIME)\n",
    "    .with_columns(pl.from_epoch(\"time\", time_unit=\"s\"))\n",
    "    .sort(\"time\")\n",
    "    .plot(x=\"time\", y=\"price\", label=\"price of \"+TOKEN1+\" in ETH\")\n",
    ")\n",
    "plt2 = (\n",
    "    df_token2_prices_in_eth.filter(pl.col(\"time\") >= START_TIME)\n",
    "    .with_columns(pl.from_epoch(\"time\", time_unit=\"s\"))\n",
    "    .sort(\"time\")\n",
    "    .with_columns(\n",
    "        pl.col(\"price\")\n",
    "        .rolling_var(by=\"time\", window_size=\"12h\")\n",
    "        .alias(\"price_variance\")\n",
    "    )\n",
    "    .plot(x=\"time\", y=\"price_variance\", label=\"price variance of \"+TOKEN2+\" in ETH\")\n",
    ")\n",
    "plt1 + plt2"
   ]
  },
  {
   "cell_type": "code",
   "execution_count": null,
   "metadata": {},
   "outputs": [],
   "source": []
  }
 ],
 "metadata": {
  "kernelspec": {
   "display_name": "Python 3",
   "language": "python",
   "name": "python3"
  },
  "language_info": {
   "codemirror_mode": {
    "name": "ipython",
    "version": 3
   },
   "file_extension": ".py",
   "mimetype": "text/x-python",
   "name": "python",
   "nbconvert_exporter": "python",
   "pygments_lexer": "ipython3",
   "version": "3.12.1"
  }
 },
 "nbformat": 4,
 "nbformat_minor": 2
}
